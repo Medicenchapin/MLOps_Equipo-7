{
 "cells": [
  {
   "cell_type": "code",
   "execution_count": 1,
   "metadata": {},
   "outputs": [],
   "source": [
    "import pandas as pd\n",
    "from sklearn.model_selection import train_test_split\n",
    "import yaml"
   ]
  },
  {
   "cell_type": "markdown",
   "metadata": {},
   "source": [
    "## 1 - Config"
   ]
  },
  {
   "cell_type": "code",
   "execution_count": 2,
   "metadata": {},
   "outputs": [
    {
     "name": "stdout",
     "output_type": "stream",
     "text": [
      "{'base': {'seed': 42}, 'data_load': {'filepath': './data/raw/SouthGermanCredit.asc', 'dataset_csv': './data/Preprocess.csv', 'processed': 'data/processed/'}, 'data_split': {'test_size': 0.2, 'trainset_path': './data/train_SouthGermanCredit.csv', 'tesssett_path': './data/tess_SouthGermanCredit.csv'}, 'train': {'cv': 3, 'estimator_name': 'logreg', 'C': 0.001, 'max_iter': 100, 'multi_class': 'multinomial', 'model_path': 'models/model.joblib', 'models': 'models/'}, 'reports': None}\n"
     ]
    }
   ],
   "source": [
    "with open(r'params.yaml') as conf_file:\n",
    "    config = yaml.safe_load(conf_file)\n",
    "\n",
    "print(config)\n"
   ]
  },
  {
   "cell_type": "code",
   "execution_count": 3,
   "metadata": {},
   "outputs": [
    {
     "name": "stdout",
     "output_type": "stream",
     "text": [
      "./data/Preprocess.csv\n"
     ]
    }
   ],
   "source": [
    "print(config['data_load']['dataset_csv'])"
   ]
  },
  {
   "cell_type": "code",
   "execution_count": 5,
   "metadata": {},
   "outputs": [],
   "source": [
    "df = pd.read_csv(r\"./notebooks/data/Final_Model.csv\")"
   ]
  },
  {
   "cell_type": "code",
   "execution_count": 6,
   "metadata": {},
   "outputs": [],
   "source": [
    "X=df.drop(['credit_risk'],axis=1)\n",
    "y=df['credit_risk']"
   ]
  },
  {
   "cell_type": "code",
   "execution_count": 13,
   "metadata": {},
   "outputs": [
    {
     "name": "stdout",
     "output_type": "stream",
     "text": [
      "Data Load Complete\n"
     ]
    }
   ],
   "source": [
    "from src.stages.data_load import data_load\n",
    "\n",
    "data_load(config_path = \"params.yaml\")"
   ]
  },
  {
   "cell_type": "code",
   "execution_count": 12,
   "metadata": {},
   "outputs": [
    {
     "name": "stdout",
     "output_type": "stream",
     "text": [
      "params.yaml\n",
      "Data Load Complete\n"
     ]
    }
   ],
   "source": [
    "!python .\\src\\stages\\data_load.py --config=params.yaml"
   ]
  }
 ],
 "metadata": {
  "kernelspec": {
   "display_name": "vENV-IA-Advance",
   "language": "python",
   "name": "python3"
  },
  "language_info": {
   "codemirror_mode": {
    "name": "ipython",
    "version": 3
   },
   "file_extension": ".py",
   "mimetype": "text/x-python",
   "name": "python",
   "nbconvert_exporter": "python",
   "pygments_lexer": "ipython3",
   "version": "3.10.14"
  }
 },
 "nbformat": 4,
 "nbformat_minor": 2
}
