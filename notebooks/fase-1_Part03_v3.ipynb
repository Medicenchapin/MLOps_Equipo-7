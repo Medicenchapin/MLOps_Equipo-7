{
 "cells": [
  {
   "cell_type": "markdown",
   "metadata": {},
   "source": [
    "# **Maestría en Inteligencia Artificial Aplicada**\n",
    "\n",
    "## **Curso: MLOps**\n",
    "\n",
    "### Tecnológico de Monterrey\n",
    "\n",
    "## **Fase 1 - Avance de proyecto - Equipo 7**\n",
    "### **Problema de asignación de créditos: South German Dataset.**"
   ]
  },
  {
   "cell_type": "markdown",
   "metadata": {},
   "source": [
    "## **Construcción, ajuste y evaluación de Modelos de Machine Learning**"
   ]
  },
  {
   "cell_type": "code",
   "execution_count": 1,
   "metadata": {},
   "outputs": [],
   "source": [
    "import numpy as np\n",
    "import pandas as pd\n",
    "import matplotlib.pyplot as plt\n",
    "import seaborn as sns\n",
    "from sklearn.model_selection import train_test_split\n",
    "from sklearn.pipeline import Pipeline\n",
    "from sklearn.preprocessing import StandardScaler\n",
    "from sklearn.preprocessing import OrdinalEncoder\n",
    "from sklearn.preprocessing import OneHotEncoder\n",
    "from sklearn.preprocessing import FunctionTransformer\n",
    "from sklearn.compose import ColumnTransformer\n",
    "from sklearn.decomposition import PCA"
   ]
  },
  {
   "cell_type": "code",
   "execution_count": 2,
   "metadata": {},
   "outputs": [],
   "source": [
    "from sklearn.model_selection import train_test_split, cross_val_score,KFold, RepeatedStratifiedKFold\n",
    "from sklearn.ensemble import RandomForestClassifier,GradientBoostingClassifier,AdaBoostClassifier\n",
    "from sklearn.metrics import accuracy_score,confusion_matrix,precision_score,recall_score\n",
    "from sklearn.model_selection import GridSearchCV, RandomizedSearchCV\n",
    "from sklearn.linear_model import SGDClassifier,LogisticRegression\n",
    "from sklearn.tree import DecisionTreeClassifier\n",
    "from sklearn.ensemble import BaggingClassifier\n",
    "#from imblearn.over_sampling import ADASYN\n",
    "from lightgbm import LGBMClassifier\n",
    "#from xgboost import XGBClassifier\n",
    "from collections import Counter\n",
    "from scipy.stats import randint\n",
    "from sklearn.svm import SVC\n",
    "import pandas as pd\n",
    "import numpy as np\n",
    "import warnings\n",
    "import pickle"
   ]
  },
  {
   "cell_type": "code",
   "execution_count": 3,
   "metadata": {},
   "outputs": [],
   "source": [
    "from sklearn.pipeline import Pipeline\n",
    "from sklearn.impute import SimpleImputer\n",
    "from sklearn.preprocessing import OneHotEncoder, MinMaxScaler\n",
    "\n",
    "from sklearn.dummy import DummyClassifier\n",
    "from sklearn.metrics import accuracy_score, f1_score, precision_score, recall_score\n",
    "\n",
    "from sklearn.svm import SVC\n",
    "from sklearn.model_selection import GridSearchCV\n",
    "\n",
    "from sklearn.model_selection import learning_curve\n",
    "\n",
    "from sklearn.metrics import roc_curve, roc_auc_score\n",
    "from sklearn.metrics import roc_auc_score\n",
    "\n",
    "from sklearn.metrics import f1_score"
   ]
  },
  {
   "cell_type": "code",
   "execution_count": 4,
   "metadata": {},
   "outputs": [],
   "source": [
    "import yaml\n",
    "\n",
    "with open(r'../params.yaml') as conf_file:\n",
    "    config = yaml.safe_load(conf_file)\n",
    "\n",
    "#print(config['data_load']['dataToModel'])"
   ]
  },
  {
   "cell_type": "code",
   "execution_count": 5,
   "metadata": {},
   "outputs": [],
   "source": [
    "df = pd.read_csv(config['data_load']['dataToModel'])\n",
    "#df = pd.read_csv(r\"./data/Final_Model.csv\")\n",
    "#df.drop(['Unnamed: 0'],axis=1,inplace=True)"
   ]
  },
  {
   "cell_type": "code",
   "execution_count": 6,
   "metadata": {},
   "outputs": [
    {
     "data": {
      "text/plain": [
       "0      1\n",
       "1      1\n",
       "2      1\n",
       "3      1\n",
       "4      1\n",
       "      ..\n",
       "244    0\n",
       "245    0\n",
       "246    0\n",
       "247    0\n",
       "248    0\n",
       "Name: credit_risk, Length: 249, dtype: int64"
      ]
     },
     "execution_count": 6,
     "metadata": {},
     "output_type": "execute_result"
    }
   ],
   "source": [
    "X=df.drop(['credit_risk'],axis=1)\n",
    "Y=df['credit_risk']\n",
    "Y"
   ]
  },
  {
   "cell_type": "code",
   "execution_count": 7,
   "metadata": {},
   "outputs": [],
   "source": [
    "X_train, X_test, y_train, y_test = train_test_split(X, Y, test_size=0.2, random_state=42)"
   ]
  },
  {
   "cell_type": "code",
   "execution_count": 8,
   "metadata": {},
   "outputs": [],
   "source": [
    "X_train.to_csv(config['data_split']['X_train_set_path'])\n",
    "X_test.to_csv(config['data_split']['X_test_set_path'])\n",
    "y_train.to_csv(config['data_split']['Y_train_set_path'])\n",
    "y_test.to_csv(config['data_split']['Y_test_set_path'])"
   ]
  },
  {
   "cell_type": "code",
   "execution_count": 9,
   "metadata": {},
   "outputs": [
    {
     "name": "stdout",
     "output_type": "stream",
     "text": [
      "Dimensión de datos de entrada para entrenamiento y validación: (211, 14)\n",
      "Dimensión de datos de entrada para prueba: (38, 14)\n",
      "Dimensión de variable de salida para entrenamiento y validación: (211,)\n",
      "Dimensión de variable de salida para prueba: (38,)\n"
     ]
    }
   ],
   "source": [
    "# Dividir los datos en conjunto de entrenamiento y prueba\n",
    "Xtrain, Xtest, ytrain, ytest = train_test_split(X, Y, test_size=0.15, stratify=Y, random_state=1)\n",
    "\n",
    "print('Dimensión de datos de entrada para entrenamiento y validación:', Xtrain.shape)\n",
    "print('Dimensión de datos de entrada para prueba:', Xtest.shape)\n",
    "\n",
    "print('Dimensión de variable de salida para entrenamiento y validación:', ytrain.shape)\n",
    "print('Dimensión de variable de salida para prueba:', ytest.shape)"
   ]
  },
  {
   "cell_type": "code",
   "execution_count": 10,
   "metadata": {},
   "outputs": [
    {
     "data": {
      "text/html": [
       "<div>\n",
       "<style scoped>\n",
       "    .dataframe tbody tr th:only-of-type {\n",
       "        vertical-align: middle;\n",
       "    }\n",
       "\n",
       "    .dataframe tbody tr th {\n",
       "        vertical-align: top;\n",
       "    }\n",
       "\n",
       "    .dataframe thead th {\n",
       "        text-align: right;\n",
       "    }\n",
       "</style>\n",
       "<table border=\"1\" class=\"dataframe\">\n",
       "  <thead>\n",
       "    <tr style=\"text-align: right;\">\n",
       "      <th></th>\n",
       "      <th>status</th>\n",
       "      <th>duration</th>\n",
       "      <th>credit_history</th>\n",
       "      <th>purpose</th>\n",
       "      <th>amount</th>\n",
       "      <th>savings</th>\n",
       "      <th>employment_duration</th>\n",
       "      <th>installment_rate</th>\n",
       "      <th>personal_status_sex</th>\n",
       "      <th>present_residence</th>\n",
       "      <th>property</th>\n",
       "      <th>age</th>\n",
       "      <th>number_credits</th>\n",
       "      <th>telephone</th>\n",
       "    </tr>\n",
       "  </thead>\n",
       "  <tbody>\n",
       "    <tr>\n",
       "      <th>count</th>\n",
       "      <td>211.000000</td>\n",
       "      <td>211.000000</td>\n",
       "      <td>211.000000</td>\n",
       "      <td>211.000000</td>\n",
       "      <td>211.000000</td>\n",
       "      <td>211.000000</td>\n",
       "      <td>211.000000</td>\n",
       "      <td>211.000000</td>\n",
       "      <td>211.000000</td>\n",
       "      <td>211.000000</td>\n",
       "      <td>211.000000</td>\n",
       "      <td>211.000000</td>\n",
       "      <td>211.000000</td>\n",
       "      <td>211.000000</td>\n",
       "    </tr>\n",
       "    <tr>\n",
       "      <th>mean</th>\n",
       "      <td>-0.022237</td>\n",
       "      <td>-0.033870</td>\n",
       "      <td>0.013463</td>\n",
       "      <td>-0.047870</td>\n",
       "      <td>-0.039814</td>\n",
       "      <td>0.009729</td>\n",
       "      <td>0.014351</td>\n",
       "      <td>0.037839</td>\n",
       "      <td>-0.011513</td>\n",
       "      <td>0.020932</td>\n",
       "      <td>-0.034528</td>\n",
       "      <td>0.015123</td>\n",
       "      <td>0.011952</td>\n",
       "      <td>-0.013405</td>\n",
       "    </tr>\n",
       "    <tr>\n",
       "      <th>std</th>\n",
       "      <td>1.007663</td>\n",
       "      <td>0.981346</td>\n",
       "      <td>0.996879</td>\n",
       "      <td>0.981948</td>\n",
       "      <td>1.009190</td>\n",
       "      <td>1.008764</td>\n",
       "      <td>1.000494</td>\n",
       "      <td>0.998422</td>\n",
       "      <td>0.999814</td>\n",
       "      <td>1.005494</td>\n",
       "      <td>0.988506</td>\n",
       "      <td>0.986455</td>\n",
       "      <td>1.013031</td>\n",
       "      <td>0.997526</td>\n",
       "    </tr>\n",
       "    <tr>\n",
       "      <th>min</th>\n",
       "      <td>-1.532680</td>\n",
       "      <td>-1.433187</td>\n",
       "      <td>-2.653565</td>\n",
       "      <td>-1.438390</td>\n",
       "      <td>-2.849071</td>\n",
       "      <td>-0.819956</td>\n",
       "      <td>-2.209825</td>\n",
       "      <td>-2.102864</td>\n",
       "      <td>-2.220039</td>\n",
       "      <td>-1.451964</td>\n",
       "      <td>-1.382712</td>\n",
       "      <td>-1.330826</td>\n",
       "      <td>-0.702276</td>\n",
       "      <td>-0.707107</td>\n",
       "    </tr>\n",
       "    <tr>\n",
       "      <th>25%</th>\n",
       "      <td>-0.725836</td>\n",
       "      <td>-0.742260</td>\n",
       "      <td>-0.713072</td>\n",
       "      <td>-0.777580</td>\n",
       "      <td>-0.695497</td>\n",
       "      <td>-0.819956</td>\n",
       "      <td>-0.390829</td>\n",
       "      <td>-1.143865</td>\n",
       "      <td>-0.884798</td>\n",
       "      <td>-0.561474</td>\n",
       "      <td>-1.382712</td>\n",
       "      <td>-0.756518</td>\n",
       "      <td>-0.702276</td>\n",
       "      <td>-0.707107</td>\n",
       "    </tr>\n",
       "    <tr>\n",
       "      <th>50%</th>\n",
       "      <td>0.887853</td>\n",
       "      <td>-0.051334</td>\n",
       "      <td>-0.713072</td>\n",
       "      <td>-0.116770</td>\n",
       "      <td>0.003890</td>\n",
       "      <td>-0.819956</td>\n",
       "      <td>-0.390829</td>\n",
       "      <td>0.774131</td>\n",
       "      <td>0.450443</td>\n",
       "      <td>-0.561474</td>\n",
       "      <td>-0.253875</td>\n",
       "      <td>-0.182210</td>\n",
       "      <td>-0.702276</td>\n",
       "      <td>-0.707107</td>\n",
       "    </tr>\n",
       "    <tr>\n",
       "      <th>75%</th>\n",
       "      <td>0.887853</td>\n",
       "      <td>0.639593</td>\n",
       "      <td>1.227420</td>\n",
       "      <td>0.544040</td>\n",
       "      <td>0.703756</td>\n",
       "      <td>1.178938</td>\n",
       "      <td>0.518670</td>\n",
       "      <td>0.774131</td>\n",
       "      <td>0.450443</td>\n",
       "      <td>1.219507</td>\n",
       "      <td>0.874962</td>\n",
       "      <td>0.392098</td>\n",
       "      <td>1.311435</td>\n",
       "      <td>1.414214</td>\n",
       "    </tr>\n",
       "    <tr>\n",
       "      <th>max</th>\n",
       "      <td>0.887853</td>\n",
       "      <td>2.712372</td>\n",
       "      <td>1.227420</td>\n",
       "      <td>2.526470</td>\n",
       "      <td>1.962702</td>\n",
       "      <td>1.576673</td>\n",
       "      <td>1.428168</td>\n",
       "      <td>0.774131</td>\n",
       "      <td>1.785683</td>\n",
       "      <td>1.219507</td>\n",
       "      <td>2.003799</td>\n",
       "      <td>2.880765</td>\n",
       "      <td>2.740186</td>\n",
       "      <td>1.414214</td>\n",
       "    </tr>\n",
       "  </tbody>\n",
       "</table>\n",
       "</div>"
      ],
      "text/plain": [
       "           status    duration  credit_history     purpose      amount  \\\n",
       "count  211.000000  211.000000      211.000000  211.000000  211.000000   \n",
       "mean    -0.022237   -0.033870        0.013463   -0.047870   -0.039814   \n",
       "std      1.007663    0.981346        0.996879    0.981948    1.009190   \n",
       "min     -1.532680   -1.433187       -2.653565   -1.438390   -2.849071   \n",
       "25%     -0.725836   -0.742260       -0.713072   -0.777580   -0.695497   \n",
       "50%      0.887853   -0.051334       -0.713072   -0.116770    0.003890   \n",
       "75%      0.887853    0.639593        1.227420    0.544040    0.703756   \n",
       "max      0.887853    2.712372        1.227420    2.526470    1.962702   \n",
       "\n",
       "          savings  employment_duration  installment_rate  personal_status_sex  \\\n",
       "count  211.000000           211.000000        211.000000           211.000000   \n",
       "mean     0.009729             0.014351          0.037839            -0.011513   \n",
       "std      1.008764             1.000494          0.998422             0.999814   \n",
       "min     -0.819956            -2.209825         -2.102864            -2.220039   \n",
       "25%     -0.819956            -0.390829         -1.143865            -0.884798   \n",
       "50%     -0.819956            -0.390829          0.774131             0.450443   \n",
       "75%      1.178938             0.518670          0.774131             0.450443   \n",
       "max      1.576673             1.428168          0.774131             1.785683   \n",
       "\n",
       "       present_residence    property         age  number_credits   telephone  \n",
       "count         211.000000  211.000000  211.000000      211.000000  211.000000  \n",
       "mean            0.020932   -0.034528    0.015123        0.011952   -0.013405  \n",
       "std             1.005494    0.988506    0.986455        1.013031    0.997526  \n",
       "min            -1.451964   -1.382712   -1.330826       -0.702276   -0.707107  \n",
       "25%            -0.561474   -1.382712   -0.756518       -0.702276   -0.707107  \n",
       "50%            -0.561474   -0.253875   -0.182210       -0.702276   -0.707107  \n",
       "75%             1.219507    0.874962    0.392098        1.311435    1.414214  \n",
       "max             1.219507    2.003799    2.880765        2.740186    1.414214  "
      ]
     },
     "execution_count": 10,
     "metadata": {},
     "output_type": "execute_result"
    }
   ],
   "source": [
    "# Obtener estadísticas descriptivas de las columnas numéricas en X_train\n",
    "Xtrain.describe()"
   ]
  },
  {
   "cell_type": "code",
   "execution_count": 11,
   "metadata": {},
   "outputs": [
    {
     "data": {
      "text/plain": [
       "0.7914691943127962"
      ]
     },
     "execution_count": 11,
     "metadata": {},
     "output_type": "execute_result"
    }
   ],
   "source": [
    "ytrain_numeric = ytrain.astype(int)\n",
    "result = ytrain_numeric.sum() / ytrain_numeric.shape[0]\n",
    "result"
   ]
  },
  {
   "cell_type": "code",
   "execution_count": 12,
   "metadata": {},
   "outputs": [],
   "source": [
    "#del df['other_debtors']\n",
    "#del df['other_installment_plans']\n",
    "#del df['housing']\n",
    "#del df['job']\n",
    "#del df['people_liable']\n",
    "#del df['foreign_worker']"
   ]
  },
  {
   "cell_type": "code",
   "execution_count": 13,
   "metadata": {},
   "outputs": [],
   "source": [
    "var_num=[\"duration\", \"amount\", \"age\"]\n",
    "#var_nom=[\"status\", \"credit_history\", \"purpose\", \"savings\", \"personal_status_sex\", \"other_debtors\", \"other_installment_plans\",\"housing\"]\n",
    "#var_ord=[\"employment_duration\", \"installment_rate\", \"present_residence\", \"property\", \"number_credits\",\"job\"]\n",
    "#var_bin=[\"telephone\", \"foreign_worker\", \"credit_risk\", \"person_liable\"]\n",
    "var_nom=[\"status\", \"credit_history\", \"purpose\", \"savings\", \"personal_status_sex\"]\n",
    "var_ord=[\"employment_duration\", \"installment_rate\", \"present_residence\", \"property\", \"number_credits\"]\n",
    "var_bin=[\"telephone\", \"credit_risk\", \"person_liable\"]"
   ]
  },
  {
   "cell_type": "code",
   "execution_count": 14,
   "metadata": {},
   "outputs": [
    {
     "data": {
      "text/html": [
       "<style>#sk-container-id-1 {color: black;background-color: white;}#sk-container-id-1 pre{padding: 0;}#sk-container-id-1 div.sk-toggleable {background-color: white;}#sk-container-id-1 label.sk-toggleable__label {cursor: pointer;display: block;width: 100%;margin-bottom: 0;padding: 0.3em;box-sizing: border-box;text-align: center;}#sk-container-id-1 label.sk-toggleable__label-arrow:before {content: \"▸\";float: left;margin-right: 0.25em;color: #696969;}#sk-container-id-1 label.sk-toggleable__label-arrow:hover:before {color: black;}#sk-container-id-1 div.sk-estimator:hover label.sk-toggleable__label-arrow:before {color: black;}#sk-container-id-1 div.sk-toggleable__content {max-height: 0;max-width: 0;overflow: hidden;text-align: left;background-color: #f0f8ff;}#sk-container-id-1 div.sk-toggleable__content pre {margin: 0.2em;color: black;border-radius: 0.25em;background-color: #f0f8ff;}#sk-container-id-1 input.sk-toggleable__control:checked~div.sk-toggleable__content {max-height: 200px;max-width: 100%;overflow: auto;}#sk-container-id-1 input.sk-toggleable__control:checked~label.sk-toggleable__label-arrow:before {content: \"▾\";}#sk-container-id-1 div.sk-estimator input.sk-toggleable__control:checked~label.sk-toggleable__label {background-color: #d4ebff;}#sk-container-id-1 div.sk-label input.sk-toggleable__control:checked~label.sk-toggleable__label {background-color: #d4ebff;}#sk-container-id-1 input.sk-hidden--visually {border: 0;clip: rect(1px 1px 1px 1px);clip: rect(1px, 1px, 1px, 1px);height: 1px;margin: -1px;overflow: hidden;padding: 0;position: absolute;width: 1px;}#sk-container-id-1 div.sk-estimator {font-family: monospace;background-color: #f0f8ff;border: 1px dotted black;border-radius: 0.25em;box-sizing: border-box;margin-bottom: 0.5em;}#sk-container-id-1 div.sk-estimator:hover {background-color: #d4ebff;}#sk-container-id-1 div.sk-parallel-item::after {content: \"\";width: 100%;border-bottom: 1px solid gray;flex-grow: 1;}#sk-container-id-1 div.sk-label:hover label.sk-toggleable__label {background-color: #d4ebff;}#sk-container-id-1 div.sk-serial::before {content: \"\";position: absolute;border-left: 1px solid gray;box-sizing: border-box;top: 0;bottom: 0;left: 50%;z-index: 0;}#sk-container-id-1 div.sk-serial {display: flex;flex-direction: column;align-items: center;background-color: white;padding-right: 0.2em;padding-left: 0.2em;position: relative;}#sk-container-id-1 div.sk-item {position: relative;z-index: 1;}#sk-container-id-1 div.sk-parallel {display: flex;align-items: stretch;justify-content: center;background-color: white;position: relative;}#sk-container-id-1 div.sk-item::before, #sk-container-id-1 div.sk-parallel-item::before {content: \"\";position: absolute;border-left: 1px solid gray;box-sizing: border-box;top: 0;bottom: 0;left: 50%;z-index: -1;}#sk-container-id-1 div.sk-parallel-item {display: flex;flex-direction: column;z-index: 1;position: relative;background-color: white;}#sk-container-id-1 div.sk-parallel-item:first-child::after {align-self: flex-end;width: 50%;}#sk-container-id-1 div.sk-parallel-item:last-child::after {align-self: flex-start;width: 50%;}#sk-container-id-1 div.sk-parallel-item:only-child::after {width: 0;}#sk-container-id-1 div.sk-dashed-wrapped {border: 1px dashed gray;margin: 0 0.4em 0.5em 0.4em;box-sizing: border-box;padding-bottom: 0.4em;background-color: white;}#sk-container-id-1 div.sk-label label {font-family: monospace;font-weight: bold;display: inline-block;line-height: 1.2em;}#sk-container-id-1 div.sk-label-container {text-align: center;}#sk-container-id-1 div.sk-container {/* jupyter's `normalize.less` sets `[hidden] { display: none; }` but bootstrap.min.css set `[hidden] { display: none !important; }` so we also need the `!important` here to be able to override the default hidden behavior on the sphinx rendered scikit-learn.org. See: https://github.com/scikit-learn/scikit-learn/issues/21755 */display: inline-block !important;position: relative;}#sk-container-id-1 div.sk-text-repr-fallback {display: none;}</style><div id=\"sk-container-id-1\" class=\"sk-top-container\"><div class=\"sk-text-repr-fallback\"><pre>ColumnTransformer(remainder=&#x27;passthrough&#x27;,\n",
       "                  transformers=[(&#x27;numpipe&#x27;,\n",
       "                                 Pipeline(steps=[(&#x27;impMediana&#x27;,\n",
       "                                                  SimpleImputer(strategy=&#x27;median&#x27;)),\n",
       "                                                 (&#x27;escalaNum&#x27;,\n",
       "                                                  MinMaxScaler(feature_range=(1,\n",
       "                                                                              2)))]),\n",
       "                                 [&#x27;duration&#x27;, &#x27;amount&#x27;, &#x27;age&#x27;]),\n",
       "                                (&#x27;catimp&#x27;,\n",
       "                                 Pipeline(steps=[(&#x27;impModa&#x27;,\n",
       "                                                  SimpleImputer(strategy=&#x27;most_frequent&#x27;))]),\n",
       "                                 [&#x27;employment_duration&#x27;, &#x27;installment_rate&#x27;,\n",
       "                                  &#x27;present_residence&#x27;, &#x27;property&#x27;,\n",
       "                                  &#x27;number_credits&#x27;]),\n",
       "                                (&#x27;catohe&#x27;,\n",
       "                                 Pipeline(steps=[(&#x27;OneHotE&#x27;,\n",
       "                                                  OneHotEncoder(drop=&#x27;first&#x27;,\n",
       "                                                                handle_unknown=&#x27;ignore&#x27;))]),\n",
       "                                 [&#x27;status&#x27;, &#x27;credit_history&#x27;, &#x27;purpose&#x27;,\n",
       "                                  &#x27;savings&#x27;, &#x27;personal_status_sex&#x27;])])</pre><b>In a Jupyter environment, please rerun this cell to show the HTML representation or trust the notebook. <br />On GitHub, the HTML representation is unable to render, please try loading this page with nbviewer.org.</b></div><div class=\"sk-container\" hidden><div class=\"sk-item sk-dashed-wrapped\"><div class=\"sk-label-container\"><div class=\"sk-label sk-toggleable\"><input class=\"sk-toggleable__control sk-hidden--visually\" id=\"sk-estimator-id-1\" type=\"checkbox\" ><label for=\"sk-estimator-id-1\" class=\"sk-toggleable__label sk-toggleable__label-arrow\">ColumnTransformer</label><div class=\"sk-toggleable__content\"><pre>ColumnTransformer(remainder=&#x27;passthrough&#x27;,\n",
       "                  transformers=[(&#x27;numpipe&#x27;,\n",
       "                                 Pipeline(steps=[(&#x27;impMediana&#x27;,\n",
       "                                                  SimpleImputer(strategy=&#x27;median&#x27;)),\n",
       "                                                 (&#x27;escalaNum&#x27;,\n",
       "                                                  MinMaxScaler(feature_range=(1,\n",
       "                                                                              2)))]),\n",
       "                                 [&#x27;duration&#x27;, &#x27;amount&#x27;, &#x27;age&#x27;]),\n",
       "                                (&#x27;catimp&#x27;,\n",
       "                                 Pipeline(steps=[(&#x27;impModa&#x27;,\n",
       "                                                  SimpleImputer(strategy=&#x27;most_frequent&#x27;))]),\n",
       "                                 [&#x27;employment_duration&#x27;, &#x27;installment_rate&#x27;,\n",
       "                                  &#x27;present_residence&#x27;, &#x27;property&#x27;,\n",
       "                                  &#x27;number_credits&#x27;]),\n",
       "                                (&#x27;catohe&#x27;,\n",
       "                                 Pipeline(steps=[(&#x27;OneHotE&#x27;,\n",
       "                                                  OneHotEncoder(drop=&#x27;first&#x27;,\n",
       "                                                                handle_unknown=&#x27;ignore&#x27;))]),\n",
       "                                 [&#x27;status&#x27;, &#x27;credit_history&#x27;, &#x27;purpose&#x27;,\n",
       "                                  &#x27;savings&#x27;, &#x27;personal_status_sex&#x27;])])</pre></div></div></div><div class=\"sk-parallel\"><div class=\"sk-parallel-item\"><div class=\"sk-item\"><div class=\"sk-label-container\"><div class=\"sk-label sk-toggleable\"><input class=\"sk-toggleable__control sk-hidden--visually\" id=\"sk-estimator-id-2\" type=\"checkbox\" ><label for=\"sk-estimator-id-2\" class=\"sk-toggleable__label sk-toggleable__label-arrow\">numpipe</label><div class=\"sk-toggleable__content\"><pre>[&#x27;duration&#x27;, &#x27;amount&#x27;, &#x27;age&#x27;]</pre></div></div></div><div class=\"sk-serial\"><div class=\"sk-item\"><div class=\"sk-serial\"><div class=\"sk-item\"><div class=\"sk-estimator sk-toggleable\"><input class=\"sk-toggleable__control sk-hidden--visually\" id=\"sk-estimator-id-3\" type=\"checkbox\" ><label for=\"sk-estimator-id-3\" class=\"sk-toggleable__label sk-toggleable__label-arrow\">SimpleImputer</label><div class=\"sk-toggleable__content\"><pre>SimpleImputer(strategy=&#x27;median&#x27;)</pre></div></div></div><div class=\"sk-item\"><div class=\"sk-estimator sk-toggleable\"><input class=\"sk-toggleable__control sk-hidden--visually\" id=\"sk-estimator-id-4\" type=\"checkbox\" ><label for=\"sk-estimator-id-4\" class=\"sk-toggleable__label sk-toggleable__label-arrow\">MinMaxScaler</label><div class=\"sk-toggleable__content\"><pre>MinMaxScaler(feature_range=(1, 2))</pre></div></div></div></div></div></div></div></div><div class=\"sk-parallel-item\"><div class=\"sk-item\"><div class=\"sk-label-container\"><div class=\"sk-label sk-toggleable\"><input class=\"sk-toggleable__control sk-hidden--visually\" id=\"sk-estimator-id-5\" type=\"checkbox\" ><label for=\"sk-estimator-id-5\" class=\"sk-toggleable__label sk-toggleable__label-arrow\">catimp</label><div class=\"sk-toggleable__content\"><pre>[&#x27;employment_duration&#x27;, &#x27;installment_rate&#x27;, &#x27;present_residence&#x27;, &#x27;property&#x27;, &#x27;number_credits&#x27;]</pre></div></div></div><div class=\"sk-serial\"><div class=\"sk-item\"><div class=\"sk-serial\"><div class=\"sk-item\"><div class=\"sk-estimator sk-toggleable\"><input class=\"sk-toggleable__control sk-hidden--visually\" id=\"sk-estimator-id-6\" type=\"checkbox\" ><label for=\"sk-estimator-id-6\" class=\"sk-toggleable__label sk-toggleable__label-arrow\">SimpleImputer</label><div class=\"sk-toggleable__content\"><pre>SimpleImputer(strategy=&#x27;most_frequent&#x27;)</pre></div></div></div></div></div></div></div></div><div class=\"sk-parallel-item\"><div class=\"sk-item\"><div class=\"sk-label-container\"><div class=\"sk-label sk-toggleable\"><input class=\"sk-toggleable__control sk-hidden--visually\" id=\"sk-estimator-id-7\" type=\"checkbox\" ><label for=\"sk-estimator-id-7\" class=\"sk-toggleable__label sk-toggleable__label-arrow\">catohe</label><div class=\"sk-toggleable__content\"><pre>[&#x27;status&#x27;, &#x27;credit_history&#x27;, &#x27;purpose&#x27;, &#x27;savings&#x27;, &#x27;personal_status_sex&#x27;]</pre></div></div></div><div class=\"sk-serial\"><div class=\"sk-item\"><div class=\"sk-serial\"><div class=\"sk-item\"><div class=\"sk-estimator sk-toggleable\"><input class=\"sk-toggleable__control sk-hidden--visually\" id=\"sk-estimator-id-8\" type=\"checkbox\" ><label for=\"sk-estimator-id-8\" class=\"sk-toggleable__label sk-toggleable__label-arrow\">OneHotEncoder</label><div class=\"sk-toggleable__content\"><pre>OneHotEncoder(drop=&#x27;first&#x27;, handle_unknown=&#x27;ignore&#x27;)</pre></div></div></div></div></div></div></div></div><div class=\"sk-parallel-item\"><div class=\"sk-item\"><div class=\"sk-label-container\"><div class=\"sk-label sk-toggleable\"><input class=\"sk-toggleable__control sk-hidden--visually\" id=\"sk-estimator-id-9\" type=\"checkbox\" ><label for=\"sk-estimator-id-9\" class=\"sk-toggleable__label sk-toggleable__label-arrow\">remainder</label><div class=\"sk-toggleable__content\"><pre></pre></div></div></div><div class=\"sk-serial\"><div class=\"sk-item\"><div class=\"sk-estimator sk-toggleable\"><input class=\"sk-toggleable__control sk-hidden--visually\" id=\"sk-estimator-id-10\" type=\"checkbox\" ><label for=\"sk-estimator-id-10\" class=\"sk-toggleable__label sk-toggleable__label-arrow\">passthrough</label><div class=\"sk-toggleable__content\"><pre>passthrough</pre></div></div></div></div></div></div></div></div></div></div>"
      ],
      "text/plain": [
       "ColumnTransformer(remainder='passthrough',\n",
       "                  transformers=[('numpipe',\n",
       "                                 Pipeline(steps=[('impMediana',\n",
       "                                                  SimpleImputer(strategy='median')),\n",
       "                                                 ('escalaNum',\n",
       "                                                  MinMaxScaler(feature_range=(1,\n",
       "                                                                              2)))]),\n",
       "                                 ['duration', 'amount', 'age']),\n",
       "                                ('catimp',\n",
       "                                 Pipeline(steps=[('impModa',\n",
       "                                                  SimpleImputer(strategy='most_frequent'))]),\n",
       "                                 ['employment_duration', 'installment_rate',\n",
       "                                  'present_residence', 'property',\n",
       "                                  'number_credits']),\n",
       "                                ('catohe',\n",
       "                                 Pipeline(steps=[('OneHotE',\n",
       "                                                  OneHotEncoder(drop='first',\n",
       "                                                                handle_unknown='ignore'))]),\n",
       "                                 ['status', 'credit_history', 'purpose',\n",
       "                                  'savings', 'personal_status_sex'])])"
      ]
     },
     "execution_count": 14,
     "metadata": {},
     "output_type": "execute_result"
    }
   ],
   "source": [
    "# Transformaciones a factores numéricos de entrada:\n",
    "num_pipeline = Pipeline(steps=[('impMediana', SimpleImputer(strategy='median')),('escalaNum', MinMaxScaler(feature_range=(1, 2)))])\n",
    "num_pipeline_nombres = var_num\n",
    "\n",
    "# Transformaciones a factores categóricos de entrada:\n",
    "catImp_pipeline = Pipeline(steps=[('impModa', SimpleImputer(strategy='most_frequent'))])\n",
    "catImp_pipeline_nombres = var_ord\n",
    "\n",
    "catOHE_pipeline = Pipeline(steps=[('OneHotE', OneHotEncoder(drop='first', handle_unknown='ignore'))])\n",
    "catOHE_pipeline_nombres = var_nom\n",
    "\n",
    "# Conjuntamos las transformaciones numéricas y categóricas que se estarán aplicando a los datos de entrada:\n",
    "columnasTransformer = ColumnTransformer(transformers=[('numpipe', num_pipeline, num_pipeline_nombres),('catimp', catImp_pipeline, catImp_pipeline_nombres),\n",
    " ('catohe', catOHE_pipeline, catOHE_pipeline_nombres)], remainder='passthrough')\n",
    "\n",
    "columnasTransformer\n"
   ]
  },
  {
   "cell_type": "code",
   "execution_count": 15,
   "metadata": {},
   "outputs": [
    {
     "name": "stdout",
     "output_type": "stream",
     "text": [
      "Baseline Metrics:\n",
      "Train Accuracy: 0.6635071090047393\n",
      "Validation Accuracy: 0.6578947368421053\n",
      "Train F1-Score: 0.7893175074183977\n",
      "Validation F1-Score: 0.7796610169491527\n",
      "Train Precision: 0.7823529411764706\n",
      "Validation Precision: 0.7931034482758621\n",
      "Train Recall: 0.7964071856287425\n",
      "Validation Recall: 0.7666666666666667\n"
     ]
    },
    {
     "name": "stderr",
     "output_type": "stream",
     "text": [
      "c:\\Users\\PC04-DCCG\\anaconda3\\envs\\vENV-IA-Advance\\lib\\site-packages\\sklearn\\preprocessing\\_encoders.py:188: UserWarning: Found unknown categories in columns [1] during transform. These unknown categories will be encoded as all zeros\n",
      "  warnings.warn(\n"
     ]
    }
   ],
   "source": [
    "# Ajustar el ColumnTransformer a los datos de entrenamiento\n",
    "columnasTransformer.fit(Xtrain)\n",
    "\n",
    "# Transformar los datos de entrenamiento y validación utilizando el ColumnTransformer ajustado\n",
    "X_train_transformado = columnasTransformer.transform(Xtrain)\n",
    "X_val_transformado = columnasTransformer.transform(Xtest)\n",
    "\n",
    "# Convertir las etiquetas de entrenamiento y validación a tipo entero\n",
    "ytrain = ytrain.astype(int)\n",
    "yval = ytest.astype(int)\n",
    "\n",
    "# Crear un clasificador Dummy con estrategia \"stratified\"\n",
    "dummy_classifier = DummyClassifier(strategy=\"stratified\", random_state=0)\n",
    "\n",
    "# Ajustar el clasificador Dummy a los datos de entrenamiento transformados\n",
    "dummy_classifier.fit(X_train_transformado, ytrain)\n",
    "\n",
    "# Predecir las etiquetas de entrenamiento y validación utilizando el clasificador Dummy\n",
    "y_train_pred = dummy_classifier.predict(X_train_transformado)\n",
    "y_val_pred = dummy_classifier.predict(X_val_transformado)\n",
    "\n",
    "# Calcular la exactitud (accuracy) de entrenamiento y validación\n",
    "train_accuracy = accuracy_score(ytrain, y_train_pred)\n",
    "val_accuracy = accuracy_score(yval, y_val_pred)\n",
    "\n",
    "# Calcular el F1-Score de entrenamiento y validación\n",
    "train_f1 = f1_score(ytrain, y_train_pred)\n",
    "val_f1 = f1_score(yval, y_val_pred)\n",
    "\n",
    "# Calcular la precisión (precision) de entrenamiento y validación\n",
    "train_precision = precision_score(ytrain, y_train_pred)\n",
    "val_precision = precision_score(yval, y_val_pred)\n",
    "\n",
    "# Calcular la exhaustividad (recall) de entrenamiento y validación\n",
    "train_recall = recall_score(ytrain, y_train_pred)\n",
    "val_recall = recall_score(yval, y_val_pred)\n",
    "\n",
    "# Imprimir las métricas de línea de base (baseline metrics)\n",
    "print(\"Baseline Metrics:\")\n",
    "print(\"Train Accuracy:\", train_accuracy)\n",
    "print(\"Validation Accuracy:\", val_accuracy)\n",
    "print(\"Train F1-Score:\", train_f1)\n",
    "print(\"Validation F1-Score:\", val_f1)\n",
    "print(\"Train Precision:\", train_precision)\n",
    "print(\"Validation Precision:\", val_precision)\n",
    "print(\"Train Recall:\", train_recall)\n",
    "print(\"Validation Recall:\", val_recall)"
   ]
  },
  {
   "cell_type": "code",
   "execution_count": 16,
   "metadata": {},
   "outputs": [],
   "source": [
    "# Definir el rango de valores para los hiperparámetros a explorar\n",
    "param_grid = {'C': [0.1, 1, 10],\n",
    "              'kernel': ['linear', 'rbf', 'sigmoid'],\n",
    "              'gamma': [0.1, 1, 10]}"
   ]
  },
  {
   "cell_type": "code",
   "execution_count": 17,
   "metadata": {},
   "outputs": [],
   "source": [
    "# Definir el rango de valores para los hiperparámetros a explorar\n",
    "param_grid = {'C': [0.1, 1, 10, 100, 1000],\n",
    "              'kernel': ['linear', 'rbf', 'sigmoid'],\n",
    "              'gamma': [0.1, 1, 10, 100]\n",
    "              }"
   ]
  },
  {
   "cell_type": "code",
   "execution_count": 18,
   "metadata": {},
   "outputs": [
    {
     "name": "stdout",
     "output_type": "stream",
     "text": [
      "Best Hyperparameters: {'C': 1, 'gamma': 0.1, 'kernel': 'linear'}\n",
      "Train Accuracy: 0.8672985781990521\n",
      "Validation Accuracy: 0.868421052631579\n"
     ]
    }
   ],
   "source": [
    "# Crear el modelo SVM\n",
    "SVM_model = SVC(random_state=0)\n",
    "#SVM_model = SVC(C=1, kernel='rbf', gamma='scale', probability=True)\n",
    "\n",
    "# Realizar la búsqueda de cuadrícula con validación cruzada\n",
    "grid_search = GridSearchCV(SVM_model, param_grid, scoring='accuracy', cv=5)\n",
    "grid_search.fit(X_train_transformado, ytrain)\n",
    "\n",
    "# Obtener los mejores hiperparámetros y el mejor modelo\n",
    "best_params = grid_search.best_params_\n",
    "best_model = grid_search.best_estimator_\n",
    "\n",
    "# Evaluar el mejor modelo en los conjuntos de entrenamiento y validación\n",
    "train_accuracy = best_model.score(X_train_transformado, ytrain)\n",
    "val_accuracy = best_model.score(X_val_transformado, yval)\n",
    "\n",
    "print(\"Best Hyperparameters:\", best_params)\n",
    "print(\"Train Accuracy:\", train_accuracy)\n",
    "print(\"Validation Accuracy:\", val_accuracy)"
   ]
  },
  {
   "cell_type": "code",
   "execution_count": 19,
   "metadata": {},
   "outputs": [
    {
     "data": {
      "image/png": "[encoded data removed]",
      "text/plain": [
       "<Figure size 500x300 with 1 Axes>"
      ]
     },
     "metadata": {},
     "output_type": "display_data"
    },
    {
     "data": {
      "image/png": "[encoded data removed]",
      "text/plain": [
       "<Figure size 500x300 with 1 Axes>"
      ]
     },
     "metadata": {},
     "output_type": "display_data"
    }
   ],
   "source": [
    "# Obtener las predicciones del mejor modelo\n",
    "y_train_pred = best_model.predict(X_train_transformado)\n",
    "y_val_pred = best_model.predict(X_val_transformado)\n",
    "\n",
    "# Calcular todas las métricas\n",
    "train_accuracy = accuracy_score(ytrain, y_train_pred)\n",
    "val_accuracy = accuracy_score(yval, y_val_pred)\n",
    "train_f1_score = f1_score(ytrain, y_train_pred)\n",
    "val_f1_score = f1_score(yval, y_val_pred)\n",
    "train_precision = precision_score(ytrain, y_train_pred)\n",
    "val_precision = precision_score(yval, y_val_pred)\n",
    "train_recall = recall_score(ytrain, y_train_pred)\n",
    "val_recall = recall_score(yval, y_val_pred)\n",
    "\n",
    "# Crear un DataFrame con las métricas\n",
    "metrics_df = pd.DataFrame({'Metric': ['Accuracy', 'F1-Score', 'Precision', 'Recall'],\n",
    "                           'Train': [train_accuracy, train_f1_score, train_precision, train_recall],\n",
    "                           'Validation': [val_accuracy, val_f1_score, val_precision, val_recall]})\n",
    "\n",
    "# Diagramas de caja y bigote de las métricas\n",
    "plt.figure(figsize=(5, 3))\n",
    "sns.boxplot(data=metrics_df, x='Metric', y='Train', color='skyblue')\n",
    "sns.stripplot(data=metrics_df, x='Metric', y='Train', color='black', size=5)\n",
    "plt.title('Train Metrics')\n",
    "plt.ylim(0, 1)\n",
    "plt.show()\n",
    "\n",
    "plt.figure(figsize=(5, 3))\n",
    "sns.boxplot(data=metrics_df, x='Metric', y='Validation', color='lightgreen')\n",
    "sns.stripplot(data=metrics_df, x='Metric', y='Validation', color='black', size=5)\n",
    "plt.title('Validation Metrics')\n",
    "plt.ylim(0, 1)\n",
    "plt.show()"
   ]
  },
  {
   "cell_type": "code",
   "execution_count": 20,
   "metadata": {},
   "outputs": [
    {
     "data": {
      "image/png": "[encoded data removed]",
      "text/plain": [
       "<Figure size 800x600 with 1 Axes>"
      ]
     },
     "metadata": {},
     "output_type": "display_data"
    }
   ],
   "source": [
    "# Función para generar las curvas de aprendizaje\n",
    "def plot_learning_curve(estimator, X, y, cv, train_sizes):\n",
    "    train_sizes, train_scores, val_scores = learning_curve(estimator, X, y, cv=cv, train_sizes=train_sizes)\n",
    "\n",
    "    # Calcular los promedios y las desviaciones estándar de las puntuaciones\n",
    "    train_scores_mean = np.mean(train_scores, axis=1)\n",
    "    train_scores_std = np.std(train_scores, axis=1)\n",
    "    val_scores_mean = np.mean(val_scores, axis=1)\n",
    "    val_scores_std = np.std(val_scores, axis=1)\n",
    "\n",
    "    # Graficar las curvas de aprendizaje\n",
    "    plt.figure(figsize=(8, 6))\n",
    "    plt.plot(train_sizes, train_scores_mean, label='Train')\n",
    "    plt.fill_between(train_sizes, train_scores_mean - train_scores_std,\n",
    "                     train_scores_mean + train_scores_std, alpha=0.3)\n",
    "    plt.plot(train_sizes, val_scores_mean, label='Validation')\n",
    "    plt.fill_between(train_sizes, val_scores_mean - val_scores_std,\n",
    "                     val_scores_mean + val_scores_std, alpha=0.3)\n",
    "    plt.xlabel('Training Set Size')\n",
    "    plt.ylabel('Score')\n",
    "    plt.legend()\n",
    "    plt.title('Learning Curve')\n",
    "    plt.show()\n",
    "\n",
    "# Definir los tamaños de conjunto de entrenamiento a evaluar\n",
    "train_sizes = np.linspace(0.1, 1.0, 10, 100)\n",
    "\n",
    "# Generar las curvas de aprendizaje\n",
    "plot_learning_curve(best_model, X_train_transformado, ytrain, cv=5, train_sizes=train_sizes)"
   ]
  },
  {
   "cell_type": "code",
   "execution_count": 21,
   "metadata": {},
   "outputs": [
    {
     "name": "stdout",
     "output_type": "stream",
     "text": [
      "Best Hyperparameters: {'C': 1, 'gamma': 0.1, 'kernel': 'linear'}\n",
      "Train Accuracy: 0.8672985781990521\n",
      "Validation Accuracy: 0.868421052631579\n"
     ]
    }
   ],
   "source": [
    "print(\"Best Hyperparameters:\", best_params)\n",
    "print(\"Train Accuracy:\", train_accuracy)\n",
    "print(\"Validation Accuracy:\", val_accuracy)"
   ]
  },
  {
   "cell_type": "code",
   "execution_count": 22,
   "metadata": {},
   "outputs": [
    {
     "data": {
      "image/png": "[encoded data removed]",
      "text/plain": [
       "<Figure size 800x600 with 1 Axes>"
      ]
     },
     "metadata": {},
     "output_type": "display_data"
    }
   ],
   "source": [
    "from sklearn import metrics\n",
    "\n",
    "# Get the scores using decision_function\n",
    "scores_val = best_model.decision_function(X_val_transformado)\n",
    "\n",
    "# Calculate the false positive rate, true positive rate, and thresholds\n",
    "fpr, tpr, thresholds = roc_curve(yval, scores_val)\n",
    "\n",
    "#cm=confusion_matrix(ytest, y_val_pred)\n",
    "\n",
    "# Calculate the AUC\n",
    "auc = roc_auc_score(yval, scores_val)\n",
    "\n",
    "# Plot the ROC curve\n",
    "\n",
    "plt.figure(figsize=(8, 6))\n",
    "plt.plot(fpr, tpr, label='ROC curve (AUC = {:.2f})'.format(auc))\n",
    "plt.plot([0, 1], [0, 1], 'k--', label='Random')\n",
    "plt.xlabel('False Positive Rate')\n",
    "plt.ylabel('True Positive Rate')\n",
    "plt.title('Receiver Operating Characteristic (ROC) Curve')\n",
    "plt.legend(loc='lower right')\n",
    "plt.hlines(tpr, 0, fpr, colors='r', linestyles='dotted')  # Se calcula TPrate y FPrate con base a threshold=0.5\n",
    "plt.vlines(fpr, 0, tpr, colors='r', linestyles='dotted')\n",
    "plt.show()"
   ]
  },
  {
   "cell_type": "code",
   "execution_count": 23,
   "metadata": {},
   "outputs": [
    {
     "name": "stdout",
     "output_type": "stream",
     "text": [
      "AUC: 0.725\n"
     ]
    }
   ],
   "source": [
    "# Obtener los puntajes utilizando decision_function\n",
    "scores_val = best_model.decision_function(X_val_transformado)\n",
    "\n",
    "# Calcular el AUC\n",
    "auc = roc_auc_score(yval, scores_val)\n",
    "\n",
    "print('AUC:', auc)"
   ]
  },
  {
   "cell_type": "code",
   "execution_count": 24,
   "metadata": {},
   "outputs": [
    {
     "name": "stdout",
     "output_type": "stream",
     "text": [
      "Mejor umbral: 0.002397628175346833\n",
      "Mejor F1-Score: 0.9206349206349207\n"
     ]
    }
   ],
   "source": [
    "# Obtener los puntajes utilizando decision_function\n",
    "scores_val = best_model.decision_function(X_val_transformado)\n",
    "\n",
    "# Crear una lista para almacenar los valores de f1-score\n",
    "f1_scores = []\n",
    "\n",
    "# Probar diferentes umbrales de predicción\n",
    "thresholds = np.linspace(np.min(scores_val), np.max(scores_val), 100)\n",
    "for threshold in thresholds:\n",
    "    # Convertir los puntajes en etiquetas binarias utilizando el umbral\n",
    "    y_pred = np.where(scores_val >= threshold, 1, 0)\n",
    "    # Calcular el f1-score utilizando las etiquetas predichas\n",
    "    f1 = f1_score(yval, y_pred)\n",
    "    # Agregar el valor del f1-score a la lista\n",
    "    f1_scores.append(f1)\n",
    "\n",
    "# Encontrar el umbral que maximiza el f1-score\n",
    "best_threshold = thresholds[np.argmax(f1_scores)]\n",
    "best_f1_score = np.max(f1_scores)\n",
    "\n",
    "print('Mejor umbral:', best_threshold)\n",
    "print('Mejor F1-Score:', best_f1_score)"
   ]
  },
  {
   "cell_type": "code",
   "execution_count": 25,
   "metadata": {},
   "outputs": [
    {
     "name": "stdout",
     "output_type": "stream",
     "text": [
      "Mejor umbral: 0.29985698694106033\n",
      "Mejor G-Mean: 0.7359800721939873\n"
     ]
    }
   ],
   "source": [
    "# Obtener los puntajes utilizando decision_function\n",
    "scores_val = best_model.decision_function(X_val_transformado)\n",
    "\n",
    "# Crear una lista para almacenar los valores de g-mean\n",
    "g_mean_scores = []\n",
    "\n",
    "# Probar diferentes umbrales de predicción\n",
    "thresholds = np.linspace(np.min(scores_val), np.max(scores_val), 100)\n",
    "for threshold in thresholds:\n",
    "    # Convertir los puntajes en etiquetas binarias utilizando el umbral\n",
    "    y_pred = np.where(scores_val >= threshold, 1, 0)\n",
    "    # Calcular la matriz de confusión utilizando las etiquetas predichas\n",
    "    tn, fp, fn, tp = confusion_matrix(yval, y_pred).ravel()\n",
    "    # Calcular el g-mean utilizando los valores de la matriz de confusión\n",
    "    g_mean = np.sqrt(tp / (tp + fn) * tn / (tn + fp))\n",
    "    # Agregar el valor del g-mean a la lista\n",
    "    g_mean_scores.append(g_mean)\n",
    "\n",
    "# Encontrar el umbral que maximiza el g-mean\n",
    "best_threshold = thresholds[np.argmax(g_mean_scores)]\n",
    "best_g_mean = np.max(g_mean_scores)\n",
    "\n",
    "print('Mejor umbral:', best_threshold)\n",
    "print('Mejor G-Mean:', best_g_mean)"
   ]
  },
  {
   "cell_type": "markdown",
   "metadata": {},
   "source": [
    "## **Versionado de datos**"
   ]
  },
  {
   "cell_type": "markdown",
   "metadata": {},
   "source": [
    "## **Aplicación de Mejores Prácticas en el Pipeline de Modelado**"
   ]
  },
  {
   "cell_type": "code",
   "execution_count": null,
   "metadata": {},
   "outputs": [],
   "source": []
  },
  {
   "cell_type": "markdown",
   "metadata": {},
   "source": [
    "## **Estructuración y Refactorización del Código**"
   ]
  },
  {
   "cell_type": "code",
   "execution_count": null,
   "metadata": {},
   "outputs": [],
   "source": []
  }
 ],
 "metadata": {
  "kernelspec": {
   "display_name": "myenv",
   "language": "python",
   "name": "python3"
  },
  "language_info": {
   "codemirror_mode": {
    "name": "ipython",
    "version": 3
   },
   "file_extension": ".py",
   "mimetype": "text/x-python",
   "name": "python",
   "nbconvert_exporter": "python",
   "pygments_lexer": "ipython3",
   "version": "3.12.7"
  }
 },
 "nbformat": 4,
 "nbformat_minor": 2
}
