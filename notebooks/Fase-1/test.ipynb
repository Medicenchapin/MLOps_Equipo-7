{
 "cells": [
  {
   "cell_type": "code",
   "execution_count": 17,
   "metadata": {},
   "outputs": [],
   "source": [
    "import pandas as pd\n",
    "from sklearn.model_selection import train_test_split\n",
    "import yaml"
   ]
  },
  {
   "cell_type": "markdown",
   "metadata": {},
   "source": [
    "## 1 - Config"
   ]
  },
  {
   "cell_type": "code",
   "execution_count": 38,
   "metadata": {},
   "outputs": [
    {
     "name": "stdout",
     "output_type": "stream",
     "text": [
      "{'base': {'seed': 42}, 'data_load': {'filepath': './data/raw/SouthGermanCredit.asc', 'dataset_csv': './data/Preprocess.csv', 'processed': 'data/processed/'}, 'data_split': {'test_size': 0.2, 'random_state': 42, 'X_train_set_path': './data/X_train_SouthGermanCredit.csv', 'X_test_set_path': './data/X_test_SouthGermanCredit.csv', 'Y_train_set_path': './data/Y_train_SouthGermanCredit.csv', 'Y_test_set_path': './data/Y_test_SouthGermanCredit.csv'}, 'train': {'cv': 3, 'estimator_name': 'logreg', 'C': 0.001, 'max_iter': 100, 'multi_class': 'multinomial', 'model_path': 'models/model.joblib', 'models': 'models/'}, 'reports': None}\n"
     ]
    }
   ],
   "source": [
    "with open(r'../params.yaml') as conf_file:\n",
    "    config = yaml.safe_load(conf_file)\n",
    "\n",
    "print(config)\n"
   ]
  },
  {
   "cell_type": "code",
   "execution_count": 29,
   "metadata": {},
   "outputs": [
    {
     "name": "stdout",
     "output_type": "stream",
     "text": [
      "./data/Preprocess.csv\n"
     ]
    }
   ],
   "source": [
    "print(config['data_load']['dataset_csv'])"
   ]
  },
  {
   "cell_type": "code",
   "execution_count": 30,
   "metadata": {},
   "outputs": [],
   "source": [
    "df = pd.read_csv(r\"./data/Final_Model.csv\")"
   ]
  },
  {
   "cell_type": "code",
   "execution_count": 31,
   "metadata": {},
   "outputs": [],
   "source": [
    "X=df.drop(['credit_risk'],axis=1)\n",
    "y=df['credit_risk']"
   ]
  },
  {
   "cell_type": "code",
   "execution_count": 40,
   "metadata": {},
   "outputs": [],
   "source": [
    "test_size=config['data_split']['test_size']\n",
    "random_state=config['data_split']['random_state']"
   ]
  },
  {
   "cell_type": "code",
   "execution_count": 41,
   "metadata": {},
   "outputs": [],
   "source": [
    "X_train, X_test, y_train, y_test = train_test_split(X, y, test_size=test_size, random_state=random_state)"
   ]
  },
  {
   "cell_type": "code",
   "execution_count": 42,
   "metadata": {},
   "outputs": [
    {
     "name": "stdout",
     "output_type": "stream",
     "text": [
      "./data/X_train_SouthGermanCredit.csv\n"
     ]
    }
   ],
   "source": [
    "print(config['data_split']['X_train_set_path'])"
   ]
  },
  {
   "cell_type": "code",
   "execution_count": 43,
   "metadata": {},
   "outputs": [
    {
     "name": "stdout",
     "output_type": "stream",
     "text": [
      "./data/X_test_SouthGermanCredit.csv\n"
     ]
    }
   ],
   "source": [
    "print(config['data_split']['X_test_set_path'])"
   ]
  },
  {
   "cell_type": "code",
   "execution_count": 44,
   "metadata": {},
   "outputs": [],
   "source": [
    "X_train.to_csv('./data/X_train_SouthGermanCredit.csv')\n",
    "X_test.to_csv('./data/X_test_SouthGermanCredit.csv')\n",
    "y_train.to_csv('./data/Y_train_SouthGermanCredit.csv')\n",
    "y_test.to_csv('./data/Y_test_SouthGermanCredit.csv')"
   ]
  },
  {
   "cell_type": "code",
   "execution_count": 45,
   "metadata": {},
   "outputs": [],
   "source": [
    "X_train.to_csv(config['data_split']['X_train_set_path'])\n",
    "X_test.to_csv(config['data_split']['X_test_set_path'])\n",
    "y_train.to_csv(config['data_split']['Y_train_set_path'])\n",
    "y_test.to_csv(config['data_split']['Y_test_set_path'])"
   ]
  }
 ],
 "metadata": {
  "kernelspec": {
   "display_name": "vENV-IA-Advance",
   "language": "python",
   "name": "python3"
  },
  "language_info": {
   "codemirror_mode": {
    "name": "ipython",
    "version": 3
   },
   "file_extension": ".py",
   "mimetype": "text/x-python",
   "name": "python",
   "nbconvert_exporter": "python",
   "pygments_lexer": "ipython3",
   "version": "3.10.14"
  }
 },
 "nbformat": 4,
 "nbformat_minor": 2
}
