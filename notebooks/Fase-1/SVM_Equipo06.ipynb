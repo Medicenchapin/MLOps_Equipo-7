{
  "nbformat": 4,
  "nbformat_minor": 0,
  "metadata": {
    "colab": {
      "provenance": [],
      "toc_visible": true
    },
    "kernelspec": {
      "display_name": "Python 3",
      "name": "python3"
    }
  },
  "cells": [
    {
      "cell_type": "markdown",
      "source": [
        "#**Maestría en Inteligencia Artificial Aplicada**\n",
        "##**Curso: Inteligencia Artificial y Aprendizaje Automático**\n",
        "###Tecnológico de Monterrey\n",
        "###Prof Luis Eduardo Falcón Morales\n",
        "\n",
        "## **Adtividad de la Semana 8**\n",
        "###**Máquina de Vector Soporte - Support Vector Machine(SVM)**\n"
      ],
      "metadata": {
        "id": "VFj0sSM06dYa"
      }
    },
    {
      "cell_type": "markdown",
      "source": [
        "**Nombres y matrículas de los integrantes del equipo:**\n",
        "\n",
        "*   Dante Cesar Cervantes Gutiérrez. / Matricula: a01794585\n",
        "*   Joan Sebastian Jiménez Chacón. / Matricula: a01793970\n",
        "*   Juan Felipe Toro Salgado. / Matricula: a01794247\n",
        "*   Israel Campos Baez. / Matricula: a01334976\n",
        "*   Jose Alberto Almada Gerardo. / Matricula: a01794415"
      ],
      "metadata": {
        "id": "Qgrvy0RGB9XI"
      }
    },
    {
      "cell_type": "markdown",
      "source": [
        "Se trabajará con el conjunto de datos conocido como \"Australian credit approval\", un problema de clasificación que ya has estudiado en semanas previas y cuyos datos puedes encontrar en la siguiente liga del repositorio de la UCI:\n",
        "\n",
        "https://raw.githubusercontent.com/JorgeRamos01/Random-matrices-6/master/australian.csv\n",
        "\n",
        "El objetivo es determinar si se autoriza una tarjeta de crédito dada cierta información del solicitante. En la página de la UCI encuentras mayor información sobre el problema.\n",
        "\n",
        "En cada sección deberás incluir todas las líneas de código necesarias para responder a cada uno de los ejercicios."
      ],
      "metadata": {
        "id": "5hmjTQwUfO5I"
      }
    },
    {
      "cell_type": "code",
      "source": [
        "# Incluye aquí todos módulos, librerías y paquetes que requieras.\n",
        "import numpy as np\n",
        "import pandas as pd\n",
        "import seaborn as sns\n",
        "import matplotlib.pyplot as plt\n",
        "\n",
        "from sklearn.model_selection import train_test_split\n",
        "\n",
        "from sklearn.pipeline import Pipeline\n",
        "from sklearn.compose import ColumnTransformer\n",
        "\n",
        "from sklearn.impute import SimpleImputer\n",
        "from sklearn.preprocessing import MinMaxScaler, OneHotEncoder\n",
        "\n",
        "from sklearn.linear_model import LogisticRegression\n",
        "from sklearn.tree import DecisionTreeClassifier\n",
        "from sklearn.neural_network import MLPClassifier\n",
        "from sklearn.neighbors import KNeighborsClassifier\n",
        "from sklearn.svm import SVC\n",
        "\n",
        "from sklearn.model_selection import cross_val_score\n",
        "from sklearn.model_selection import RepeatedStratifiedKFold\n",
        "\n",
        "from sklearn.compose import ColumnTransformer\n",
        "from sklearn.pipeline import Pipeline\n",
        "from sklearn.impute import SimpleImputer\n",
        "from sklearn.preprocessing import OneHotEncoder, MinMaxScaler\n",
        "\n",
        "from sklearn.dummy import DummyClassifier\n",
        "from sklearn.metrics import accuracy_score, f1_score, precision_score, recall_score\n",
        "\n",
        "from sklearn.svm import SVC\n",
        "from sklearn.model_selection import GridSearchCV\n",
        "\n",
        "import seaborn as sns\n",
        "\n",
        "from sklearn.model_selection import learning_curve\n",
        "\n",
        "from sklearn.metrics import roc_curve, roc_auc_score\n",
        "from sklearn.metrics import roc_auc_score\n",
        "\n",
        "from sklearn.metrics import f1_score\n",
        "from sklearn.metrics import confusion_matrix"
      ],
      "metadata": {
        "id": "exXsscs-Dh-2"
      },
      "execution_count": null,
      "outputs": []
    },
    {
      "cell_type": "markdown",
      "metadata": {
        "id": "X25brD-gQdZM"
      },
      "source": [
        "#**Ejercicio-1.**\n",
        "Realiza una partición de los datos con 15% en el conjunto de prueba y el resto para entrenamiento y validación. Usa un random_state=0."
      ]
    },
    {
      "cell_type": "code",
      "source": [
        "mypath = \"https://raw.githubusercontent.com/JorgeRamos01/Random-matrices-6/master/australian.csv\"\n",
        "\n",
        "df = pd.read_csv(mypath, sep=\",\", header=None)\n",
        "df.columns = ['A1', 'A2', 'A3', 'A4', 'A5', 'A6', 'A7', 'A8', 'A9', 'A10', 'A11', 'A12', 'A13', 'A14', 'class']\n",
        "\n",
        "# Eliminar la primera fila por índice\n",
        "df = df.drop(0)\n",
        "\n",
        "print(df.shape)\n",
        "df.head()"
      ],
      "metadata": {
        "colab": {
          "base_uri": "https://localhost:8080/",
          "height": 224
        },
        "id": "pvblFT2Toc71",
        "outputId": "d036af15-4c42-4b7f-a0b6-5ab30f3414ea"
      },
      "execution_count": null,
      "outputs": [
        {
          "output_type": "stream",
          "name": "stdout",
          "text": [
            "(690, 15)\n"
          ]
        },
        {
          "output_type": "execute_result",
          "data": {
            "text/plain": [
              "  A1     A2     A3 A4 A5 A6     A7 A8 A9 A10 A11 A12  A13   A14 class\n",
              "1  1  22.08  11.46  2  4  4  1.585  0  0   0   1   2  100  1213     0\n",
              "2  0  22.67      7  2  8  4  0.165  0  0   0   0   2  160     1     0\n",
              "3  0  29.58   1.75  1  4  4   1.25  0  0   0   1   2  280     1     0\n",
              "4  0  21.67   11.5  1  5  3      0  1  1  11   1   2    0     1     1\n",
              "5  1  20.17   8.17  2  6  4   1.96  1  1  14   0   2   60   159     1"
            ],
            "text/html": [
              "\n",
              "  <div id=\"df-e9052697-0325-428d-84fc-05c610c37708\">\n",
              "    <div class=\"colab-df-container\">\n",
              "      <div>\n",
              "<style scoped>\n",
              "    .dataframe tbody tr th:only-of-type {\n",
              "        vertical-align: middle;\n",
              "    }\n",
              "\n",
              "    .dataframe tbody tr th {\n",
              "        vertical-align: top;\n",
              "    }\n",
              "\n",
              "    .dataframe thead th {\n",
              "        text-align: right;\n",
              "    }\n",
              "</style>\n",
              "<table border=\"1\" class=\"dataframe\">\n",
              "  <thead>\n",
              "    <tr style=\"text-align: right;\">\n",
              "      <th></th>\n",
              "      <th>A1</th>\n",
              "      <th>A2</th>\n",
              "      <th>A3</th>\n",
              "      <th>A4</th>\n",
              "      <th>A5</th>\n",
              "      <th>A6</th>\n",
              "      <th>A7</th>\n",
              "      <th>A8</th>\n",
              "      <th>A9</th>\n",
              "      <th>A10</th>\n",
              "      <th>A11</th>\n",
              "      <th>A12</th>\n",
              "      <th>A13</th>\n",
              "      <th>A14</th>\n",
              "      <th>class</th>\n",
              "    </tr>\n",
              "  </thead>\n",
              "  <tbody>\n",
              "    <tr>\n",
              "      <th>1</th>\n",
              "      <td>1</td>\n",
              "      <td>22.08</td>\n",
              "      <td>11.46</td>\n",
              "      <td>2</td>\n",
              "      <td>4</td>\n",
              "      <td>4</td>\n",
              "      <td>1.585</td>\n",
              "      <td>0</td>\n",
              "      <td>0</td>\n",
              "      <td>0</td>\n",
              "      <td>1</td>\n",
              "      <td>2</td>\n",
              "      <td>100</td>\n",
              "      <td>1213</td>\n",
              "      <td>0</td>\n",
              "    </tr>\n",
              "    <tr>\n",
              "      <th>2</th>\n",
              "      <td>0</td>\n",
              "      <td>22.67</td>\n",
              "      <td>7</td>\n",
              "      <td>2</td>\n",
              "      <td>8</td>\n",
              "      <td>4</td>\n",
              "      <td>0.165</td>\n",
              "      <td>0</td>\n",
              "      <td>0</td>\n",
              "      <td>0</td>\n",
              "      <td>0</td>\n",
              "      <td>2</td>\n",
              "      <td>160</td>\n",
              "      <td>1</td>\n",
              "      <td>0</td>\n",
              "    </tr>\n",
              "    <tr>\n",
              "      <th>3</th>\n",
              "      <td>0</td>\n",
              "      <td>29.58</td>\n",
              "      <td>1.75</td>\n",
              "      <td>1</td>\n",
              "      <td>4</td>\n",
              "      <td>4</td>\n",
              "      <td>1.25</td>\n",
              "      <td>0</td>\n",
              "      <td>0</td>\n",
              "      <td>0</td>\n",
              "      <td>1</td>\n",
              "      <td>2</td>\n",
              "      <td>280</td>\n",
              "      <td>1</td>\n",
              "      <td>0</td>\n",
              "    </tr>\n",
              "    <tr>\n",
              "      <th>4</th>\n",
              "      <td>0</td>\n",
              "      <td>21.67</td>\n",
              "      <td>11.5</td>\n",
              "      <td>1</td>\n",
              "      <td>5</td>\n",
              "      <td>3</td>\n",
              "      <td>0</td>\n",
              "      <td>1</td>\n",
              "      <td>1</td>\n",
              "      <td>11</td>\n",
              "      <td>1</td>\n",
              "      <td>2</td>\n",
              "      <td>0</td>\n",
              "      <td>1</td>\n",
              "      <td>1</td>\n",
              "    </tr>\n",
              "    <tr>\n",
              "      <th>5</th>\n",
              "      <td>1</td>\n",
              "      <td>20.17</td>\n",
              "      <td>8.17</td>\n",
              "      <td>2</td>\n",
              "      <td>6</td>\n",
              "      <td>4</td>\n",
              "      <td>1.96</td>\n",
              "      <td>1</td>\n",
              "      <td>1</td>\n",
              "      <td>14</td>\n",
              "      <td>0</td>\n",
              "      <td>2</td>\n",
              "      <td>60</td>\n",
              "      <td>159</td>\n",
              "      <td>1</td>\n",
              "    </tr>\n",
              "  </tbody>\n",
              "</table>\n",
              "</div>\n",
              "      <button class=\"colab-df-convert\" onclick=\"convertToInteractive('df-e9052697-0325-428d-84fc-05c610c37708')\"\n",
              "              title=\"Convert this dataframe to an interactive table.\"\n",
              "              style=\"display:none;\">\n",
              "        \n",
              "  <svg xmlns=\"http://www.w3.org/2000/svg\" height=\"24px\"viewBox=\"0 0 24 24\"\n",
              "       width=\"24px\">\n",
              "    <path d=\"M0 0h24v24H0V0z\" fill=\"none\"/>\n",
              "    <path d=\"M18.56 5.44l.94 2.06.94-2.06 2.06-.94-2.06-.94-.94-2.06-.94 2.06-2.06.94zm-11 1L8.5 8.5l.94-2.06 2.06-.94-2.06-.94L8.5 2.5l-.94 2.06-2.06.94zm10 10l.94 2.06.94-2.06 2.06-.94-2.06-.94-.94-2.06-.94 2.06-2.06.94z\"/><path d=\"M17.41 7.96l-1.37-1.37c-.4-.4-.92-.59-1.43-.59-.52 0-1.04.2-1.43.59L10.3 9.45l-7.72 7.72c-.78.78-.78 2.05 0 2.83L4 21.41c.39.39.9.59 1.41.59.51 0 1.02-.2 1.41-.59l7.78-7.78 2.81-2.81c.8-.78.8-2.07 0-2.86zM5.41 20L4 18.59l7.72-7.72 1.47 1.35L5.41 20z\"/>\n",
              "  </svg>\n",
              "      </button>\n",
              "      \n",
              "  <style>\n",
              "    .colab-df-container {\n",
              "      display:flex;\n",
              "      flex-wrap:wrap;\n",
              "      gap: 12px;\n",
              "    }\n",
              "\n",
              "    .colab-df-convert {\n",
              "      background-color: #E8F0FE;\n",
              "      border: none;\n",
              "      border-radius: 50%;\n",
              "      cursor: pointer;\n",
              "      display: none;\n",
              "      fill: #1967D2;\n",
              "      height: 32px;\n",
              "      padding: 0 0 0 0;\n",
              "      width: 32px;\n",
              "    }\n",
              "\n",
              "    .colab-df-convert:hover {\n",
              "      background-color: #E2EBFA;\n",
              "      box-shadow: 0px 1px 2px rgba(60, 64, 67, 0.3), 0px 1px 3px 1px rgba(60, 64, 67, 0.15);\n",
              "      fill: #174EA6;\n",
              "    }\n",
              "\n",
              "    [theme=dark] .colab-df-convert {\n",
              "      background-color: #3B4455;\n",
              "      fill: #D2E3FC;\n",
              "    }\n",
              "\n",
              "    [theme=dark] .colab-df-convert:hover {\n",
              "      background-color: #434B5C;\n",
              "      box-shadow: 0px 1px 3px 1px rgba(0, 0, 0, 0.15);\n",
              "      filter: drop-shadow(0px 1px 2px rgba(0, 0, 0, 0.3));\n",
              "      fill: #FFFFFF;\n",
              "    }\n",
              "  </style>\n",
              "\n",
              "      <script>\n",
              "        const buttonEl =\n",
              "          document.querySelector('#df-e9052697-0325-428d-84fc-05c610c37708 button.colab-df-convert');\n",
              "        buttonEl.style.display =\n",
              "          google.colab.kernel.accessAllowed ? 'block' : 'none';\n",
              "\n",
              "        async function convertToInteractive(key) {\n",
              "          const element = document.querySelector('#df-e9052697-0325-428d-84fc-05c610c37708');\n",
              "          const dataTable =\n",
              "            await google.colab.kernel.invokeFunction('convertToInteractive',\n",
              "                                                     [key], {});\n",
              "          if (!dataTable) return;\n",
              "\n",
              "          const docLinkHtml = 'Like what you see? Visit the ' +\n",
              "            '<a target=\"_blank\" href=https://colab.research.google.com/notebooks/data_table.ipynb>data table notebook</a>'\n",
              "            + ' to learn more about interactive tables.';\n",
              "          element.innerHTML = '';\n",
              "          dataTable['output_type'] = 'display_data';\n",
              "          await google.colab.output.renderOutput(dataTable, element);\n",
              "          const docLink = document.createElement('div');\n",
              "          docLink.innerHTML = docLinkHtml;\n",
              "          element.appendChild(docLink);\n",
              "        }\n",
              "      </script>\n",
              "    </div>\n",
              "  </div>\n",
              "  "
            ]
          },
          "metadata": {},
          "execution_count": 2
        }
      ]
    },
    {
      "cell_type": "code",
      "source": [
        "# Encontrar valores NaN\n",
        "nan_values = df.isna()\n",
        "\n",
        "# Contar el número de valores NaN en cada columna\n",
        "nan_counts = df.isna().sum()\n",
        "\n",
        "# Contar el número total de valores NaN en todo el DataFrame\n",
        "total_nan_count = df.isna().sum().sum()\n",
        "\n",
        "# Imprimir los resultados\n",
        "print(\"NaN values:\")\n",
        "print(nan_values)\n",
        "print(\"\\nNaN counts per column:\")\n",
        "print(nan_counts)\n",
        "print(\"\\nTotal NaN count:\")\n",
        "print(total_nan_count)"
      ],
      "metadata": {
        "colab": {
          "base_uri": "https://localhost:8080/"
        },
        "id": "jNihPwfvgS9o",
        "outputId": "ddd4c794-50fc-4144-8d4a-83d1ef115bbc"
      },
      "execution_count": null,
      "outputs": [
        {
          "output_type": "stream",
          "name": "stdout",
          "text": [
            "NaN values:\n",
            "        A1     A2     A3     A4     A5     A6     A7     A8     A9    A10  \\\n",
            "1    False  False  False  False  False  False  False  False  False  False   \n",
            "2    False  False  False  False  False  False  False  False  False  False   \n",
            "3    False  False  False  False  False  False  False  False  False  False   \n",
            "4    False  False  False  False  False  False  False  False  False  False   \n",
            "5    False  False  False  False  False  False  False  False  False  False   \n",
            "..     ...    ...    ...    ...    ...    ...    ...    ...    ...    ...   \n",
            "686  False  False  False  False  False  False  False  False  False  False   \n",
            "687  False  False  False  False  False  False  False  False  False  False   \n",
            "688  False  False  False  False  False  False  False  False  False  False   \n",
            "689  False  False  False  False  False  False  False  False  False  False   \n",
            "690  False  False  False  False  False  False  False  False  False  False   \n",
            "\n",
            "       A11    A12    A13    A14  class  \n",
            "1    False  False  False  False  False  \n",
            "2    False  False  False  False  False  \n",
            "3    False  False  False  False  False  \n",
            "4    False  False  False  False  False  \n",
            "5    False  False  False  False  False  \n",
            "..     ...    ...    ...    ...    ...  \n",
            "686  False  False  False  False  False  \n",
            "687  False  False  False  False  False  \n",
            "688  False  False  False  False  False  \n",
            "689  False  False  False  False  False  \n",
            "690  False  False  False  False  False  \n",
            "\n",
            "[690 rows x 15 columns]\n",
            "\n",
            "NaN counts per column:\n",
            "A1       0\n",
            "A2       0\n",
            "A3       0\n",
            "A4       0\n",
            "A5       0\n",
            "A6       0\n",
            "A7       0\n",
            "A8       0\n",
            "A9       0\n",
            "A10      0\n",
            "A11      0\n",
            "A12      0\n",
            "A13      0\n",
            "A14      0\n",
            "class    0\n",
            "dtype: int64\n",
            "\n",
            "Total NaN count:\n",
            "0\n"
          ]
        }
      ]
    },
    {
      "cell_type": "code",
      "source": [
        "#La última columna es la variable binaria de salida que nos dice si la tarjeta de crédito se autorizó (1) o no se autorizó (0).\n",
        "#De acuerdo a la información de la página de la UCI las siguientes 8 variables de entrada son las categóricas:\n",
        "#A1 (binaria), A4 (3 niveles), A5 (14 niveles), A6 (9 niveles), A8 (binaria), A9 (binaria), A11 (binaria), A12 (3 niveles).\n",
        "#El resto de las 6 variables de entrada las definen como numéricas continuas: A2,  A3,  A7,  A10,  A13,  A14.\n",
        "\n",
        "#definamos nuestras variables de entrada y de salida\n",
        "X = df.iloc[:,:-1]\n",
        "Y = df.iloc[:,-1]\n",
        "\n",
        "# Dividir los datos en conjunto de entrenamiento y prueba\n",
        "Xtrain, Xtest, ytrain, ytest = train_test_split(X, Y, test_size=0.15, stratify=Y, random_state=1)\n",
        "\n",
        "print('Dimensión de datos de entrada para entrenamiento y validación:', Xtrain.shape)\n",
        "print('Dimensión de datos de entrada para prueba:', Xtest.shape)\n",
        "\n",
        "print('Dimensión de variable de salida para entrenamiento y validación:', ytrain.shape)\n",
        "print('Dimensión de variable de salida para prueba:', ytest.shape)"
      ],
      "metadata": {
        "id": "SBcvoDxdq_6i",
        "colab": {
          "base_uri": "https://localhost:8080/"
        },
        "outputId": "3ce9a978-edf7-474e-b4ea-6418e9e025b2"
      },
      "execution_count": null,
      "outputs": [
        {
          "output_type": "stream",
          "name": "stdout",
          "text": [
            "Dimensión de datos de entrada para entrenamiento y validación: (586, 14)\n",
            "Dimensión de datos de entrada para prueba: (104, 14)\n",
            "Dimensión de variable de salida para entrenamiento y validación: (586,)\n",
            "Dimensión de variable de salida para prueba: (104,)\n"
          ]
        }
      ]
    },
    {
      "cell_type": "code",
      "source": [
        "#Las clases de créditos aprobados (1) y no aprobados (0) están distribuidos en un  44.5%  y  55.5% , respectivamente.\n",
        "#Esto nos dice que podemos considerarlo como un problema de clases balanceadas, que para el caso biclase teóricamente debe ser del  50%  cada uno.\n",
        "ytrain_numeric = ytrain.astype(int)\n",
        "result = ytrain_numeric.sum() / ytrain_numeric.shape[0]\n",
        "result"
      ],
      "metadata": {
        "colab": {
          "base_uri": "https://localhost:8080/"
        },
        "id": "BgfZHTlTvKAc",
        "outputId": "9ee21568-1462-402b-80bb-424604d2fe17"
      },
      "execution_count": null,
      "outputs": [
        {
          "output_type": "execute_result",
          "data": {
            "text/plain": [
              "0.4453924914675768"
            ]
          },
          "metadata": {},
          "execution_count": 5
        }
      ]
    },
    {
      "cell_type": "markdown",
      "source": [
        "#**Ejercicio-2.**\n",
        "Hacer una análisis de los datos y llevar a cabo las transformaciones que consideres adecuadas. Utiliza un Pipeline para evitar el filtrado de información."
      ],
      "metadata": {
        "id": "xZhr2hkECzVv"
      }
    },
    {
      "cell_type": "code",
      "source": [
        "# Transformaciones a factores numéricos de entrada:\n",
        "num_pipeline = Pipeline(steps=[('impMediana', SimpleImputer(strategy='median')),('escalaNum', MinMaxScaler(feature_range=(1, 2)))])\n",
        "num_pipeline_nombres = ['A2', 'A3', 'A7', 'A10', 'A13', 'A14']\n",
        "\n",
        "# Transformaciones a factores categóricos de entrada:\n",
        "catImp_pipeline = Pipeline(steps=[('impModa', SimpleImputer(strategy='most_frequent'))])\n",
        "catImp_pipeline_nombres = ['A1', 'A4', 'A5', 'A6', 'A8', 'A9', 'A11', 'A12']\n",
        "\n",
        "catOHE_pipeline = Pipeline(steps=[('OneHotE', OneHotEncoder(drop='first'))])\n",
        "catOHE_pipeline_nombres = ['A4', 'A5', 'A6', 'A12']\n",
        "\n",
        "# Conjuntamos las transformaciones numéricas y categóricas que se estarán aplicando a los datos de entrada:\n",
        "columnasTransformer = ColumnTransformer(transformers=[('numpipe', num_pipeline, num_pipeline_nombres),('catimp', catImp_pipeline, catImp_pipeline_nombres),\n",
        " ('catohe', catOHE_pipeline, catOHE_pipeline_nombres)], remainder='passthrough')\n",
        "\n",
        "# Obtener estadísticas descriptivas de las columnas numéricas en X_train\n",
        "Xtrain.describe()"
      ],
      "metadata": {
        "colab": {
          "base_uri": "https://localhost:8080/",
          "height": 174
        },
        "id": "JLNxB7sHd_V3",
        "outputId": "9dc86507-8170-4c32-912b-f30a95663956"
      },
      "execution_count": null,
      "outputs": [
        {
          "output_type": "execute_result",
          "data": {
            "text/plain": [
              "         A1     A2   A3   A4   A5   A6   A7   A8   A9  A10  A11  A12  A13  A14\n",
              "count   586    586  586  586  586  586  586  586  586  586  586  586  586  586\n",
              "unique    2    321  194    3   14    8  121    2    2   22    2    3  159  219\n",
              "top       1  31.57  2.5    2    8    4    0    1    0    0    0    2    0    1\n",
              "freq    399      8   19  447  125  347   60  305  338  338  318  533  113  248"
            ],
            "text/html": [
              "\n",
              "  <div id=\"df-c0ddbb2e-2006-43ee-b166-111f9890f7c3\">\n",
              "    <div class=\"colab-df-container\">\n",
              "      <div>\n",
              "<style scoped>\n",
              "    .dataframe tbody tr th:only-of-type {\n",
              "        vertical-align: middle;\n",
              "    }\n",
              "\n",
              "    .dataframe tbody tr th {\n",
              "        vertical-align: top;\n",
              "    }\n",
              "\n",
              "    .dataframe thead th {\n",
              "        text-align: right;\n",
              "    }\n",
              "</style>\n",
              "<table border=\"1\" class=\"dataframe\">\n",
              "  <thead>\n",
              "    <tr style=\"text-align: right;\">\n",
              "      <th></th>\n",
              "      <th>A1</th>\n",
              "      <th>A2</th>\n",
              "      <th>A3</th>\n",
              "      <th>A4</th>\n",
              "      <th>A5</th>\n",
              "      <th>A6</th>\n",
              "      <th>A7</th>\n",
              "      <th>A8</th>\n",
              "      <th>A9</th>\n",
              "      <th>A10</th>\n",
              "      <th>A11</th>\n",
              "      <th>A12</th>\n",
              "      <th>A13</th>\n",
              "      <th>A14</th>\n",
              "    </tr>\n",
              "  </thead>\n",
              "  <tbody>\n",
              "    <tr>\n",
              "      <th>count</th>\n",
              "      <td>586</td>\n",
              "      <td>586</td>\n",
              "      <td>586</td>\n",
              "      <td>586</td>\n",
              "      <td>586</td>\n",
              "      <td>586</td>\n",
              "      <td>586</td>\n",
              "      <td>586</td>\n",
              "      <td>586</td>\n",
              "      <td>586</td>\n",
              "      <td>586</td>\n",
              "      <td>586</td>\n",
              "      <td>586</td>\n",
              "      <td>586</td>\n",
              "    </tr>\n",
              "    <tr>\n",
              "      <th>unique</th>\n",
              "      <td>2</td>\n",
              "      <td>321</td>\n",
              "      <td>194</td>\n",
              "      <td>3</td>\n",
              "      <td>14</td>\n",
              "      <td>8</td>\n",
              "      <td>121</td>\n",
              "      <td>2</td>\n",
              "      <td>2</td>\n",
              "      <td>22</td>\n",
              "      <td>2</td>\n",
              "      <td>3</td>\n",
              "      <td>159</td>\n",
              "      <td>219</td>\n",
              "    </tr>\n",
              "    <tr>\n",
              "      <th>top</th>\n",
              "      <td>1</td>\n",
              "      <td>31.57</td>\n",
              "      <td>2.5</td>\n",
              "      <td>2</td>\n",
              "      <td>8</td>\n",
              "      <td>4</td>\n",
              "      <td>0</td>\n",
              "      <td>1</td>\n",
              "      <td>0</td>\n",
              "      <td>0</td>\n",
              "      <td>0</td>\n",
              "      <td>2</td>\n",
              "      <td>0</td>\n",
              "      <td>1</td>\n",
              "    </tr>\n",
              "    <tr>\n",
              "      <th>freq</th>\n",
              "      <td>399</td>\n",
              "      <td>8</td>\n",
              "      <td>19</td>\n",
              "      <td>447</td>\n",
              "      <td>125</td>\n",
              "      <td>347</td>\n",
              "      <td>60</td>\n",
              "      <td>305</td>\n",
              "      <td>338</td>\n",
              "      <td>338</td>\n",
              "      <td>318</td>\n",
              "      <td>533</td>\n",
              "      <td>113</td>\n",
              "      <td>248</td>\n",
              "    </tr>\n",
              "  </tbody>\n",
              "</table>\n",
              "</div>\n",
              "      <button class=\"colab-df-convert\" onclick=\"convertToInteractive('df-c0ddbb2e-2006-43ee-b166-111f9890f7c3')\"\n",
              "              title=\"Convert this dataframe to an interactive table.\"\n",
              "              style=\"display:none;\">\n",
              "        \n",
              "  <svg xmlns=\"http://www.w3.org/2000/svg\" height=\"24px\"viewBox=\"0 0 24 24\"\n",
              "       width=\"24px\">\n",
              "    <path d=\"M0 0h24v24H0V0z\" fill=\"none\"/>\n",
              "    <path d=\"M18.56 5.44l.94 2.06.94-2.06 2.06-.94-2.06-.94-.94-2.06-.94 2.06-2.06.94zm-11 1L8.5 8.5l.94-2.06 2.06-.94-2.06-.94L8.5 2.5l-.94 2.06-2.06.94zm10 10l.94 2.06.94-2.06 2.06-.94-2.06-.94-.94-2.06-.94 2.06-2.06.94z\"/><path d=\"M17.41 7.96l-1.37-1.37c-.4-.4-.92-.59-1.43-.59-.52 0-1.04.2-1.43.59L10.3 9.45l-7.72 7.72c-.78.78-.78 2.05 0 2.83L4 21.41c.39.39.9.59 1.41.59.51 0 1.02-.2 1.41-.59l7.78-7.78 2.81-2.81c.8-.78.8-2.07 0-2.86zM5.41 20L4 18.59l7.72-7.72 1.47 1.35L5.41 20z\"/>\n",
              "  </svg>\n",
              "      </button>\n",
              "      \n",
              "  <style>\n",
              "    .colab-df-container {\n",
              "      display:flex;\n",
              "      flex-wrap:wrap;\n",
              "      gap: 12px;\n",
              "    }\n",
              "\n",
              "    .colab-df-convert {\n",
              "      background-color: #E8F0FE;\n",
              "      border: none;\n",
              "      border-radius: 50%;\n",
              "      cursor: pointer;\n",
              "      display: none;\n",
              "      fill: #1967D2;\n",
              "      height: 32px;\n",
              "      padding: 0 0 0 0;\n",
              "      width: 32px;\n",
              "    }\n",
              "\n",
              "    .colab-df-convert:hover {\n",
              "      background-color: #E2EBFA;\n",
              "      box-shadow: 0px 1px 2px rgba(60, 64, 67, 0.3), 0px 1px 3px 1px rgba(60, 64, 67, 0.15);\n",
              "      fill: #174EA6;\n",
              "    }\n",
              "\n",
              "    [theme=dark] .colab-df-convert {\n",
              "      background-color: #3B4455;\n",
              "      fill: #D2E3FC;\n",
              "    }\n",
              "\n",
              "    [theme=dark] .colab-df-convert:hover {\n",
              "      background-color: #434B5C;\n",
              "      box-shadow: 0px 1px 3px 1px rgba(0, 0, 0, 0.15);\n",
              "      filter: drop-shadow(0px 1px 2px rgba(0, 0, 0, 0.3));\n",
              "      fill: #FFFFFF;\n",
              "    }\n",
              "  </style>\n",
              "\n",
              "      <script>\n",
              "        const buttonEl =\n",
              "          document.querySelector('#df-c0ddbb2e-2006-43ee-b166-111f9890f7c3 button.colab-df-convert');\n",
              "        buttonEl.style.display =\n",
              "          google.colab.kernel.accessAllowed ? 'block' : 'none';\n",
              "\n",
              "        async function convertToInteractive(key) {\n",
              "          const element = document.querySelector('#df-c0ddbb2e-2006-43ee-b166-111f9890f7c3');\n",
              "          const dataTable =\n",
              "            await google.colab.kernel.invokeFunction('convertToInteractive',\n",
              "                                                     [key], {});\n",
              "          if (!dataTable) return;\n",
              "\n",
              "          const docLinkHtml = 'Like what you see? Visit the ' +\n",
              "            '<a target=\"_blank\" href=https://colab.research.google.com/notebooks/data_table.ipynb>data table notebook</a>'\n",
              "            + ' to learn more about interactive tables.';\n",
              "          element.innerHTML = '';\n",
              "          dataTable['output_type'] = 'display_data';\n",
              "          await google.colab.output.renderOutput(dataTable, element);\n",
              "          const docLink = document.createElement('div');\n",
              "          docLink.innerHTML = docLinkHtml;\n",
              "          element.appendChild(docLink);\n",
              "        }\n",
              "      </script>\n",
              "    </div>\n",
              "  </div>\n",
              "  "
            ]
          },
          "metadata": {},
          "execution_count": 6
        }
      ]
    },
    {
      "cell_type": "markdown",
      "source": [
        "#**Ejercicio-3.**\n",
        "Utiliza la función Dummy para modelos de clasificación con la estrategia “stratified” con el conjunto que tienes de datos de entrenamiento y validación. Obtener los valores de partida (baseline) de las siguientes métricas: accuracy, f1-score, precision y recall. ¿Por qué consideras que es adecuado usar la estrategia “stratified” en este caso?\n"
      ],
      "metadata": {
        "id": "NCunuooTC2W3"
      }
    },
    {
      "cell_type": "code",
      "source": [
        "# Ajustar el ColumnTransformer a los datos de entrenamiento\n",
        "columnasTransformer.fit(Xtrain)\n",
        "\n",
        "# Transformar los datos de entrenamiento y validación utilizando el ColumnTransformer ajustado\n",
        "X_train_transformado = columnasTransformer.transform(Xtrain)\n",
        "X_val_transformado = columnasTransformer.transform(Xtest)\n",
        "\n",
        "# Convertir las etiquetas de entrenamiento y validación a tipo entero\n",
        "ytrain = ytrain.astype(int)\n",
        "yval = ytest.astype(int)\n",
        "\n",
        "# Crear un clasificador Dummy con estrategia \"stratified\"\n",
        "dummy_classifier = DummyClassifier(strategy=\"stratified\", random_state=0)\n",
        "\n",
        "# Ajustar el clasificador Dummy a los datos de entrenamiento transformados\n",
        "dummy_classifier.fit(X_train_transformado, ytrain)\n",
        "\n",
        "# Predecir las etiquetas de entrenamiento y validación utilizando el clasificador Dummy\n",
        "y_train_pred = dummy_classifier.predict(X_train_transformado)\n",
        "y_val_pred = dummy_classifier.predict(X_val_transformado)\n",
        "\n",
        "# Calcular la exactitud (accuracy) de entrenamiento y validación\n",
        "train_accuracy = accuracy_score(ytrain, y_train_pred)\n",
        "val_accuracy = accuracy_score(yval, y_val_pred)\n",
        "\n",
        "# Calcular el F1-Score de entrenamiento y validación\n",
        "train_f1 = f1_score(ytrain, y_train_pred)\n",
        "val_f1 = f1_score(yval, y_val_pred)\n",
        "\n",
        "# Calcular la precisión (precision) de entrenamiento y validación\n",
        "train_precision = precision_score(ytrain, y_train_pred)\n",
        "val_precision = precision_score(yval, y_val_pred)\n",
        "\n",
        "# Calcular la exhaustividad (recall) de entrenamiento y validación\n",
        "train_recall = recall_score(ytrain, y_train_pred)\n",
        "val_recall = recall_score(yval, y_val_pred)\n",
        "\n",
        "# Imprimir las métricas de línea de base (baseline metrics)\n",
        "print(\"Baseline Metrics:\")\n",
        "print(\"Train Accuracy:\", train_accuracy)\n",
        "print(\"Validation Accuracy:\", val_accuracy)\n",
        "print(\"Train F1-Score:\", train_f1)\n",
        "print(\"Validation F1-Score:\", val_f1)\n",
        "print(\"Train Precision:\", train_precision)\n",
        "print(\"Validation Precision:\", val_precision)\n",
        "print(\"Train Recall:\", train_recall)\n",
        "print(\"Validation Recall:\", val_recall)"
      ],
      "metadata": {
        "colab": {
          "base_uri": "https://localhost:8080/"
        },
        "id": "n7YPv2jajwno",
        "outputId": "4b11bda9-bf43-47b1-cd95-361610741f14"
      },
      "execution_count": null,
      "outputs": [
        {
          "output_type": "stream",
          "name": "stdout",
          "text": [
            "Baseline Metrics:\n",
            "Train Accuracy: 0.5187713310580204\n",
            "Validation Accuracy: 0.47115384615384615\n",
            "Train F1-Score: 0.46183206106870234\n",
            "Validation F1-Score: 0.4086021505376344\n",
            "Train Precision: 0.4600760456273764\n",
            "Validation Precision: 0.40425531914893614\n",
            "Train Recall: 0.46360153256704983\n",
            "Validation Recall: 0.41304347826086957\n"
          ]
        }
      ]
    },
    {
      "cell_type": "markdown",
      "source": [
        "La estrategia \"stratified\" es adecuada en este caso porque la proporción de clases en tu conjunto de datos de entrenamiento y validación está desbalanceada (44.5% de créditos aprobados y 55.5% de créditos no aprobados).\n",
        "\n",
        "Train Accuracy: La precisión del clasificador en los datos de entrenamiento es del 51.88%. Esto indica qué tan bien el modelo puede predecir correctamente las clases en los datos de entrenamiento.\n",
        "\n",
        "Validation Accuracy: La precisión del clasificador en los datos de validación es del 47.12%. Esto indica qué tan bien el modelo generaliza en datos no vistos, en este caso, los datos de validación.\n",
        "\n",
        "Train F1-Score: El F1-Score del clasificador en los datos de entrenamiento es del 46.18%. El F1-Score es una medida que combina precisión y recall, lo que indica qué tan bien el modelo equilibra la precisión y exhaustividad en los datos de entrenamiento.\n",
        "\n",
        "Validation F1-Score: El F1-Score del clasificador en los datos de validación es del 40.86%. Esto indica qué tan bien el modelo equilibra la precisión y exhaustividad en los datos de validación.\n",
        "\n",
        "Train Precision: La precisión del clasificador en los datos de entrenamiento es del 46.01%. Esto indica la proporción de instancias clasificadas como positivas que son realmente positivas en los datos de entrenamiento.\n",
        "\n",
        "Validation Precision: La precisión del clasificador en los datos de validación es del 40.43%. Esto indica la proporción de instancias clasificadas como positivas que son realmente positivas en los datos de validación.\n",
        "\n",
        "Train Recall: El recall del clasificador en los datos de entrenamiento es del 46.36%. Esto indica la proporción de instancias positivas que se clasifican correctamente como positivas en los datos de entrenamiento.\n",
        "\n",
        "Validation Recall: El recall del clasificador en los datos de validación es del 41.30%. Esto indica la proporción de instancias positivas que se clasifican correctamente como positivas en los datos de validación.\n",
        "\n",
        "En resumen, el clasificador Dummy con estrategia \"stratified\" tiene un rendimiento modesto en este caso. Los valores de precisión, F1-Score y recall son bastante similares tanto en los datos de entrenamiento como en los datos de validación. Sin embargo, el modelo no está logrando una alta precisión ni un alto recall, lo que sugiere que hay margen de mejora en la clasificación de las clases de créditos aprobados y no aprobados."
      ],
      "metadata": {
        "id": "Vcz1eqnvnIGH"
      }
    },
    {
      "cell_type": "markdown",
      "source": [
        "#**Ejercicio-4.**\n",
        "Usando el modelo de máquina de vector soporte (SVM) encuentra sus mejores hiperparámetros con una búsqueda de malla y validación cruzada, desplegando los errores indicados en el ejercicio anterior."
      ],
      "metadata": {
        "id": "chqk9jIDC5Pq"
      }
    },
    {
      "cell_type": "code",
      "source": [
        "# Definir el rango de valores para los hiperparámetros a explorar\n",
        "param_grid = {'C': [0.1, 1, 10],\n",
        "              'kernel': ['linear', 'rbf', 'sigmoid'],\n",
        "              'gamma': [0.1, 1, 10]}\n",
        "\n",
        "# Crear el modelo SVM\n",
        "SVM_model = SVC(random_state=0)\n",
        "#SVM_model = SVC(C=1, kernel='rbf', gamma='scale', probability=True)\n",
        "\n",
        "# Realizar la búsqueda de cuadrícula con validación cruzada\n",
        "grid_search = GridSearchCV(SVM_model, param_grid, scoring='accuracy', cv=5)\n",
        "grid_search.fit(X_train_transformado, ytrain)\n",
        "\n",
        "# Obtener los mejores hiperparámetros y el mejor modelo\n",
        "best_params = grid_search.best_params_\n",
        "best_model = grid_search.best_estimator_\n",
        "\n",
        "# Evaluar el mejor modelo en los conjuntos de entrenamiento y validación\n",
        "train_accuracy = best_model.score(X_train_transformado, ytrain)\n",
        "val_accuracy = best_model.score(X_val_transformado, yval)\n",
        "\n",
        "print(\"Best Hyperparameters:\", best_params)\n",
        "print(\"Train Accuracy:\", train_accuracy)\n",
        "print(\"Validation Accuracy:\", val_accuracy)"
      ],
      "metadata": {
        "id": "RBVSFwK4C6g9",
        "colab": {
          "base_uri": "https://localhost:8080/"
        },
        "outputId": "77c8ffd1-b3a5-4be8-e8ee-d67475c45fd0"
      },
      "execution_count": null,
      "outputs": [
        {
          "output_type": "stream",
          "name": "stdout",
          "text": [
            "Best Hyperparameters: {'C': 0.1, 'gamma': 0.1, 'kernel': 'linear'}\n",
            "Train Accuracy: 0.8583617747440273\n",
            "Validation Accuracy: 0.8461538461538461\n"
          ]
        }
      ]
    },
    {
      "cell_type": "markdown",
      "source": [
        "#**Ejercicio-5.**\n",
        "Obtener además los diagramas de caja y bigote del mejor modelo con todas las métricas calculadas. Incluye tus conclusiones.\n"
      ],
      "metadata": {
        "id": "Rv7KFq-mC7PS"
      }
    },
    {
      "cell_type": "code",
      "source": [
        "# Obtener las predicciones del mejor modelo\n",
        "y_train_pred = best_model.predict(X_train_transformado)\n",
        "y_val_pred = best_model.predict(X_val_transformado)\n",
        "\n",
        "# Calcular todas las métricas\n",
        "train_accuracy = accuracy_score(ytrain, y_train_pred)\n",
        "val_accuracy = accuracy_score(yval, y_val_pred)\n",
        "train_f1_score = f1_score(ytrain, y_train_pred)\n",
        "val_f1_score = f1_score(yval, y_val_pred)\n",
        "train_precision = precision_score(ytrain, y_train_pred)\n",
        "val_precision = precision_score(yval, y_val_pred)\n",
        "train_recall = recall_score(ytrain, y_train_pred)\n",
        "val_recall = recall_score(yval, y_val_pred)\n",
        "\n",
        "# Crear un DataFrame con las métricas\n",
        "metrics_df = pd.DataFrame({'Metric': ['Accuracy', 'F1-Score', 'Precision', 'Recall'],\n",
        "                           'Train': [train_accuracy, train_f1_score, train_precision, train_recall],\n",
        "                           'Validation': [val_accuracy, val_f1_score, val_precision, val_recall]})\n",
        "\n",
        "# Diagramas de caja y bigote de las métricas\n",
        "plt.figure(figsize=(8, 6))\n",
        "sns.boxplot(data=metrics_df, x='Metric', y='Train', color='skyblue')\n",
        "sns.stripplot(data=metrics_df, x='Metric', y='Train', color='black', size=5)\n",
        "plt.title('Train Metrics')\n",
        "plt.ylim(0, 1)\n",
        "plt.show()\n",
        "\n",
        "plt.figure(figsize=(8, 6))\n",
        "sns.boxplot(data=metrics_df, x='Metric', y='Validation', color='lightgreen')\n",
        "sns.stripplot(data=metrics_df, x='Metric', y='Validation', color='black', size=5)\n",
        "plt.title('Validation Metrics')\n",
        "plt.ylim(0, 1)\n",
        "plt.show()"
      ],
      "metadata": {
        "id": "MSPDiGTicZHr",
        "colab": {
          "base_uri": "https://localhost:8080/",
          "height": 1000
        },
        "outputId": "cac8c761-502c-4be5-84ba-e80edbdaba4d"
      },
      "execution_count": null,
      "outputs": [
        {
          "output_type": "display_data",
          "data": {
            "text/plain": [
              "<Figure size 800x600 with 1 Axes>"
            ],
            "image/png": "[encoded data removed]"
          },
          "metadata": {}
        },
        {
          "output_type": "display_data",
          "data": {
            "text/plain": [
              "<Figure size 800x600 with 1 Axes>"
            ],
            "image/png": "[encoded data removed]"
          },
          "metadata": {}
        }
      ]
    },
    {
      "cell_type": "markdown",
      "source": [
        "#**Ejercicio-6.**\n",
        "Verifica que el modelo no esté subentrenado o sobreentrenado mediante alguna de las gráficas de curvas de entrenamiento (aumentando la complejidad o aumentando el conjunto de entrenamiento, la que consideres más adecuada). De ser necesario, realiza los ajustes necesarios para evitar alguno de estos problemas."
      ],
      "metadata": {
        "id": "W2S7LI0NC9wE"
      }
    },
    {
      "cell_type": "code",
      "source": [
        "# Función para generar las curvas de aprendizaje\n",
        "def plot_learning_curve(estimator, X, y, cv, train_sizes):\n",
        "    train_sizes, train_scores, val_scores = learning_curve(estimator, X, y, cv=cv, train_sizes=train_sizes)\n",
        "\n",
        "    # Calcular los promedios y las desviaciones estándar de las puntuaciones\n",
        "    train_scores_mean = np.mean(train_scores, axis=1)\n",
        "    train_scores_std = np.std(train_scores, axis=1)\n",
        "    val_scores_mean = np.mean(val_scores, axis=1)\n",
        "    val_scores_std = np.std(val_scores, axis=1)\n",
        "\n",
        "    # Graficar las curvas de aprendizaje\n",
        "    plt.figure(figsize=(8, 6))\n",
        "    plt.plot(train_sizes, train_scores_mean, label='Train')\n",
        "    plt.fill_between(train_sizes, train_scores_mean - train_scores_std,\n",
        "                     train_scores_mean + train_scores_std, alpha=0.2)\n",
        "    plt.plot(train_sizes, val_scores_mean, label='Validation')\n",
        "    plt.fill_between(train_sizes, val_scores_mean - val_scores_std,\n",
        "                     val_scores_mean + val_scores_std, alpha=0.2)\n",
        "    plt.xlabel('Training Set Size')\n",
        "    plt.ylabel('Score')\n",
        "    plt.legend()\n",
        "    plt.title('Learning Curve')\n",
        "    plt.show()\n",
        "\n",
        "# Definir los tamaños de conjunto de entrenamiento a evaluar\n",
        "train_sizes = np.linspace(0.1, 1.0, 10)\n",
        "\n",
        "# Generar las curvas de aprendizaje\n",
        "plot_learning_curve(best_model, X_train_transformado, ytrain, cv=5, train_sizes=train_sizes)"
      ],
      "metadata": {
        "id": "x6uBleJUC_AU",
        "colab": {
          "base_uri": "https://localhost:8080/",
          "height": 564
        },
        "outputId": "55615a22-3cb5-4dd9-e2e3-23af2169eddc"
      },
      "execution_count": null,
      "outputs": [
        {
          "output_type": "display_data",
          "data": {
            "text/plain": [
              "<Figure size 800x600 with 1 Axes>"
            ],
            "image/png": "[encoded data removed]"
          },
          "metadata": {}
        }
      ]
    },
    {
      "cell_type": "markdown",
      "source": [
        "#**Ejercicio-7.**\n",
        "\n",
        "Con los mejores hiperparámetros entontrados encontrar la gráfica de la curva ROC y su área bajo la curva."
      ],
      "metadata": {
        "id": "iCNGx4TQ8CFI"
      }
    },
    {
      "cell_type": "code",
      "source": [
        "from sklearn import metrics\n",
        "\n",
        "# Get the scores using decision_function\n",
        "scores_val = best_model.decision_function(X_val_transformado)\n",
        "\n",
        "# Calculate the false positive rate, true positive rate, and thresholds\n",
        "fpr, tpr, thresholds = roc_curve(yval, scores_val)\n",
        "\n",
        "#cm=confusion_matrix(ytest, y_val_pred)\n",
        "\n",
        "# Calculate the AUC\n",
        "auc = roc_auc_score(yval, scores_val)\n",
        "\n",
        "# Plot the ROC curve\n",
        "\n",
        "plt.figure(figsize=(8, 6))\n",
        "plt.plot(fpr, tpr, label='ROC curve (AUC = {:.2f})'.format(auc))\n",
        "plt.plot([0, 1], [0, 1], 'k--', label='Random')\n",
        "plt.xlabel('False Positive Rate')\n",
        "plt.ylabel('True Positive Rate')\n",
        "plt.title('Receiver Operating Characteristic (ROC) Curve')\n",
        "plt.legend(loc='lower right')\n",
        "plt.hlines(tpr, 0, fpr, colors='r', linestyles='dotted')  # Se calcula TPrate y FPrate con base a threshold=0.5\n",
        "plt.vlines(fpr, 0, tpr, colors='r', linestyles='dotted')\n",
        "plt.show()"
      ],
      "metadata": {
        "id": "ewvwUcJX78y1",
        "colab": {
          "base_uri": "https://localhost:8080/",
          "height": 564
        },
        "outputId": "00f635b6-0cc9-4be9-8491-f2841e0131ac"
      },
      "execution_count": null,
      "outputs": [
        {
          "output_type": "display_data",
          "data": {
            "text/plain": [
              "<Figure size 800x600 with 1 Axes>"
            ],
            "image/png": "[encoded data removed]"
          },
          "metadata": {}
        }
      ]
    },
    {
      "cell_type": "code",
      "source": [
        "# Obtener los puntajes utilizando decision_function\n",
        "scores_val = best_model.decision_function(X_val_transformado)\n",
        "\n",
        "# Calcular el AUC\n",
        "auc = roc_auc_score(yval, scores_val)\n",
        "\n",
        "print('AUC:', auc)"
      ],
      "metadata": {
        "id": "F1aW0dQX8BLL",
        "colab": {
          "base_uri": "https://localhost:8080/"
        },
        "outputId": "7877b05f-ab3d-4624-edbc-f89d303ba715"
      },
      "execution_count": null,
      "outputs": [
        {
          "output_type": "stream",
          "name": "stdout",
          "text": [
            "AUC: 0.8991754122938531\n"
          ]
        }
      ]
    },
    {
      "cell_type": "markdown",
      "source": [
        "#**Ejercicio-8.**\n",
        "Encontrar el valor del mejor umbral de predicción del modelo que maximice el valor de la métrica f1-score."
      ],
      "metadata": {
        "id": "tzQn5NR78GFg"
      }
    },
    {
      "cell_type": "code",
      "source": [
        "# Obtener los puntajes utilizando decision_function\n",
        "scores_val = best_model.decision_function(X_val_transformado)\n",
        "\n",
        "# Crear una lista para almacenar los valores de f1-score\n",
        "f1_scores = []\n",
        "\n",
        "# Probar diferentes umbrales de predicción\n",
        "thresholds = np.linspace(np.min(scores_val), np.max(scores_val), 100)\n",
        "for threshold in thresholds:\n",
        "    # Convertir los puntajes en etiquetas binarias utilizando el umbral\n",
        "    y_pred = np.where(scores_val >= threshold, 1, 0)\n",
        "    # Calcular el f1-score utilizando las etiquetas predichas\n",
        "    f1 = f1_score(yval, y_pred)\n",
        "    # Agregar el valor del f1-score a la lista\n",
        "    f1_scores.append(f1)\n",
        "\n",
        "# Encontrar el umbral que maximiza el f1-score\n",
        "best_threshold = thresholds[np.argmax(f1_scores)]\n",
        "best_f1_score = np.max(f1_scores)\n",
        "\n",
        "print('Mejor umbral:', best_threshold)\n",
        "print('Mejor F1-Score:', best_f1_score)"
      ],
      "metadata": {
        "id": "EBKcp0278IQV",
        "colab": {
          "base_uri": "https://localhost:8080/"
        },
        "outputId": "84abca26-7765-4bb2-d227-a626ef412088"
      },
      "execution_count": null,
      "outputs": [
        {
          "output_type": "stream",
          "name": "stdout",
          "text": [
            "Mejor umbral: -0.08777914119987074\n",
            "Mejor F1-Score: 0.8431372549019608\n"
          ]
        }
      ]
    },
    {
      "cell_type": "markdown",
      "source": [
        "#**Ejercicio-9.**\n",
        "Encontrar el valor del mejor umbral de predicción del modelo que maximice el valor de la métrica g- mean."
      ],
      "metadata": {
        "id": "mASNrZWs8JTh"
      }
    },
    {
      "cell_type": "code",
      "source": [
        "# Obtener los puntajes utilizando decision_function\n",
        "scores_val = best_model.decision_function(X_val_transformado)\n",
        "\n",
        "# Crear una lista para almacenar los valores de g-mean\n",
        "g_mean_scores = []\n",
        "\n",
        "# Probar diferentes umbrales de predicción\n",
        "thresholds = np.linspace(np.min(scores_val), np.max(scores_val), 100)\n",
        "for threshold in thresholds:\n",
        "    # Convertir los puntajes en etiquetas binarias utilizando el umbral\n",
        "    y_pred = np.where(scores_val >= threshold, 1, 0)\n",
        "    # Calcular la matriz de confusión utilizando las etiquetas predichas\n",
        "    tn, fp, fn, tp = confusion_matrix(yval, y_pred).ravel()\n",
        "    # Calcular el g-mean utilizando los valores de la matriz de confusión\n",
        "    g_mean = np.sqrt(tp / (tp + fn) * tn / (tn + fp))\n",
        "    # Agregar el valor del g-mean a la lista\n",
        "    g_mean_scores.append(g_mean)\n",
        "\n",
        "# Encontrar el umbral que maximiza el g-mean\n",
        "best_threshold = thresholds[np.argmax(g_mean_scores)]\n",
        "best_g_mean = np.max(g_mean_scores)\n",
        "\n",
        "print('Mejor umbral:', best_threshold)\n",
        "print('Mejor G-Mean:', best_g_mean)"
      ],
      "metadata": {
        "id": "X6HJP9hb8LCp",
        "colab": {
          "base_uri": "https://localhost:8080/"
        },
        "outputId": "7376ae4b-b9c5-4872-ac84-468c420722fb"
      },
      "execution_count": null,
      "outputs": [
        {
          "output_type": "stream",
          "name": "stdout",
          "text": [
            "Mejor umbral: -0.08777914119987074\n",
            "Mejor G-Mean: 0.8516233726334619\n"
          ]
        }
      ]
    },
    {
      "cell_type": "markdown",
      "source": [
        "#**Ejercicio-10.**\n",
        "Incluye tus conclusiones finales de la actividad."
      ],
      "metadata": {
        "id": "VUIcDshs8MzG"
      }
    },
    {
      "cell_type": "markdown",
      "source": [
        "Al analizar el problema de clasificación en un conjunto de datos desbalanceado, hemos realizado un análisis comparativo entre un modelo Dummy y el modelo actual.\n",
        "\n",
        "El modelo Dummy, que utiliza una estrategia \"stratified\" para manejar el desbalanceo de clases, mostró un rendimiento modesto con una precisión del 52% y un F1-Score del 46%. Estos resultados indican que el modelo no logra una alta precisión ni un equilibrio óptimo entre la precisión y el recall en la clasificación de las clases de créditos aprobados y no aprobados.\n",
        "\n",
        "Sin embargo, al obtener los mejores hiperpárametros para aplicar un modelo más sofisticado, hemos obtenido un rendimiento significativamente superior. El modelo actual ha logrado una precisión del 84%, un F1-Score del 84%, y un G-Mean del 85%, lo cual indica un rendimiento mucho más sólido en la clasificación.\n",
        "\n",
        "Estas mejoras son especialmente destacables considerando que el conjunto de datos original presentaba un desbalanceo en las clases, con aproximadamente el 44.5% de créditos aprobados y el 55.5% de créditos no aprobados. El modelo actual ha demostrado ser efectivo en abordar este desafío y lograr una clasificación más precisa y equilibrada.\n",
        "\n",
        "Además, al analizar el área bajo la curva (AUC) obtenido, que es de 0.899, podemos concluir que el modelo tiene una alta capacidad de distinguir entre las clases y hacer predicciones correctas.\n",
        "\n",
        "En resumen, el modelo actual ha superado significativamente al modelo Dummy en términos de rendimiento y métricas de evaluación. Ha logrado una mejora sustancial en la precisión, el F1-Score y el G-Mean, lo que indica una clasificación más precisa y equilibrada de las clases en el conjunto de datos desbalanceado. Estos resultados respaldan la efectividad del modelo propuesto y sugieren su utilidad en la tarea de clasificación de créditos.\n",
        "\n",
        "Es importante destacar que, si bien el modelo actual muestra un rendimiento prometedor, es recomendable realizar una evaluación adicional, considerando las necesidades y requisitos específicos del proyecto, así como examinar otras métricas relevantes para determinar la idoneidad y el rendimiento general del modelo en el contexto particular del problema."
      ],
      "metadata": {
        "id": "G2PwpLcFqRl3"
      }
    },
    {
      "cell_type": "code",
      "source": [
        "None"
      ],
      "metadata": {
        "id": "0lKNJNIt8N88"
      },
      "execution_count": null,
      "outputs": []
    },
    {
      "cell_type": "code",
      "source": [],
      "metadata": {
        "id": "Inkq5YQe8PED"
      },
      "execution_count": null,
      "outputs": []
    },
    {
      "cell_type": "markdown",
      "source": [
        "###**Fin de la Actividad de la semana 8.**"
      ],
      "metadata": {
        "id": "7ql_r2G-DB_m"
      }
    }
  ]
}